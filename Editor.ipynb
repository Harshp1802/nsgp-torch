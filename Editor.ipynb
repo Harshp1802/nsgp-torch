{
 "cells": [
  {
   "cell_type": "code",
   "execution_count": 2,
   "metadata": {},
   "outputs": [
    {
     "data": {
      "text/plain": [
       "{'__name__': '__main__',\n",
       " '__doc__': 'Automatically created module for IPython interactive environment',\n",
       " '__package__': None,\n",
       " '__loader__': None,\n",
       " '__spec__': None,\n",
       " '__builtin__': <module 'builtins' (built-in)>,\n",
       " '__builtins__': <module 'builtins' (built-in)>,\n",
       " '_ih': ['', 'globals', 'globals()'],\n",
       " '_oh': {1: <function globals()>},\n",
       " '_dh': ['/home/patel_zeel/NSGPy'],\n",
       " 'In': ['', 'globals', 'globals()'],\n",
       " 'Out': {1: <function globals()>},\n",
       " 'get_ipython': <bound method InteractiveShell.get_ipython of <ipykernel.zmqshell.ZMQInteractiveShell object at 0x7fda294251f0>>,\n",
       " 'exit': <IPython.core.autocall.ZMQExitAutocall at 0x7fda294591c0>,\n",
       " 'quit': <IPython.core.autocall.ZMQExitAutocall at 0x7fda294591c0>,\n",
       " '_': <function globals()>,\n",
       " '__': '',\n",
       " '___': '',\n",
       " '_i': 'globals',\n",
       " '_ii': '',\n",
       " '_iii': '',\n",
       " '_i1': 'globals',\n",
       " '_1': <function globals()>,\n",
       " '_i2': 'globals()'}"
      ]
     },
     "execution_count": 2,
     "metadata": {},
     "output_type": "execute_result"
    }
   ],
   "source": [
    "globals()"
   ]
  },
  {
   "cell_type": "code",
   "execution_count": null,
   "metadata": {},
   "outputs": [],
   "source": []
  }
 ],
 "metadata": {
  "kernelspec": {
   "display_name": "Python 3",
   "language": "python",
   "name": "python3"
  },
  "language_info": {
   "codemirror_mode": {
    "name": "ipython",
    "version": 3
   },
   "file_extension": ".py",
   "mimetype": "text/x-python",
   "name": "python",
   "nbconvert_exporter": "python",
   "pygments_lexer": "ipython3",
   "version": "3.8.5"
  }
 },
 "nbformat": 4,
 "nbformat_minor": 4
}
