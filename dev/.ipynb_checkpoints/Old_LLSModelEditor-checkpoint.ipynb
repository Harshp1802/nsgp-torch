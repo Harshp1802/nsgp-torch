{
 "cells": [
  {
   "cell_type": "code",
   "execution_count": 34,
   "metadata": {},
   "outputs": [],
   "source": [
    "# Uncomment first line to write changes to the package\n",
    "import numpy as np\n",
    "from sklearn.cluster import KMeans\n",
    "import scipy"
   ]
  },
  {
   "cell_type": "code",
   "execution_count": 97,
   "metadata": {
    "scrolled": true
   },
   "outputs": [],
   "source": [
    "## Terminology is consistent with paper \n",
    "# Paper name: Nonstationary Gaussian Process Regression Using Point Estimates of Local Smoothness\n",
    "\n",
    "class LLS:\n",
    "  def __init__(self, N=1, input_dim=1): # N = Number of local points\n",
    "    self.N = N\n",
    "    self.name = 'LLS'\n",
    "    self.input_dim = input_dim\n",
    "\n",
    "  def rbf(self, x1, x2, sigma_l_bar): # RBF for GP_l without variance or noise\n",
    "    return np.exp(-(x1-x2.T)**2/(2*(sigma_l_bar**2)))\n",
    "  \"\"\"\n",
    "  # Deprecated\n",
    "  def K_XX(self, x1, x2, sigma_f, sigma_n, l): # From Eq. 7 \n",
    "    p = l.T@l\n",
    "    P_r = p\n",
    "    P_c = p.T\n",
    "    P_s = P_r + P_c\n",
    "    E = np.exp(-((x1-x2.T)**2) / P_s)\n",
    "\n",
    "    return (sigma_f**2)*(0.5**-0.5)*(P_r**0.25)*(P_c**0.25)*(P_s**-0.5)*E  # Eq. 7\n",
    "  \"\"\"\n",
    "  def K(self, x1, x2, sigma_f, sigma_l_bar, l_bar, d): # Main kernel function by Generalizing Eq. 7\n",
    "    # Calculations for GP_l\n",
    "    \n",
    "    K_X_barX_bar = self.rbf(self.X_bar[:,d:d+1], self.X_bar[:,d:d+1], sigma_l_bar[d]) # shape of (X_bar, X_bar)\n",
    "    \n",
    "    K_XX_bar1 = self.rbf(x1[:,d:d+1], self.X_bar[:,d:d+1], sigma_l_bar[d]) # shape of (X, X_bar)\n",
    "    K_XX_bar2 = self.rbf(x2[:,d:d+1], self.X_bar[:,d:d+1], sigma_l_bar[d]) # shape of (X, X_bar)\n",
    "\n",
    "    # exponent of predictive mean of lengthscales for entire X\n",
    "    lx1 = np.exp(K_XX_bar1@np.linalg.pinv(K_X_barX_bar)@np.log(l_bar[:,d:d+1])) # shape of (X, X_bar)@(X_bar, X_bar)@(X_bar, 1) = (X, 1)\n",
    "    lx2 = np.exp(K_XX_bar2@np.linalg.pinv(K_X_barX_bar)@np.log(l_bar[:,d:d+1]))\n",
    "    P_rc = (lx1@(lx2.T))**2\n",
    "    P_s = 0.5 * ((lx1**2) + (lx2.T**2))\n",
    "    E = np.exp(-((x1[:,d:d+1]-x2[:,d:d+1].T)**2) / P_s)\n",
    "    print('l_bar', l_bar)\n",
    "    print('E',E.min(),'P_s',P_s.min(),'P_rc',P_rc.min(), lx1.min(), lx2.min())\n",
    "    return (sigma_f**2)*(P_rc**0.25)*(P_s**-0.5)*E\n",
    "  \n",
    "  def predict_lengthscales(self, X_hat):\n",
    "    l_list = []\n",
    "    for d in range(X_hat.shape[1]):\n",
    "        K_X_barX_bar = self.rbf(self.X_bar[:,d:d+1], self.X_bar[:,d:d+1], self.sigma_l_bar[d])\n",
    "        K_XX_bar = self.rbf(X_hat[:,d:d+1], self.X_bar[:,d:d+1], self.sigma_l_bar[d])\n",
    "        l = np.exp(K_XX_bar@np.linalg.pinv(K_X_barX_bar)@np.log(self.l_bar[:,d:d+1]))\n",
    "        l_list.append(l)\n",
    "    return l_list\n",
    "\n",
    "  def objective(self, params): # From equation 6 in section 4.1\n",
    "    print('Start')\n",
    "    sigma_f = params[0]\n",
    "    sigma_n = params[1]\n",
    "    l_bar = params[2:2+self.input_dim*N].reshape(-1,self.input_dim)\n",
    "    print(l_bar)\n",
    "    sigma_l_bar = params[-self.input_dim:]\n",
    "    \n",
    "    # Evaluating global kernel\n",
    "    K_XX = self.K(self.X, self.X, sigma_f, sigma_l_bar, l_bar, 0)\n",
    "    for d in range(1, self.X.shape[1]):\n",
    "        K_XX *= self.K(self.X, self.X, sigma_f, sigma_l_bar, l_bar, d)\n",
    "        \n",
    "    K_X_barX_bar = self.K(self.X_bar, self.X_bar, sigma_f,sigma_l_bar, l_bar, 0)\n",
    "    for d in range(1, self.X.shape[1]):\n",
    "        K_X_barX_bar *= self.K(self.X_bar, self.X_bar, sigma_f, sigma_l_bar, l_bar, d)\n",
    "    print(np.linalg.det(K_XX), 'before')\n",
    "    np.fill_diagonal(K_XX, sigma_n**2)\n",
    "    print(np.linalg.det(K_XX))\n",
    "    try:\n",
    "        L_theta =  self.y.T@np.linalg.pinv(K_XX)@self.y +\\\n",
    "                   np.log(np.linalg.det(K_XX)) +\\\n",
    "                   np.log(np.linalg.det(K_X_barX_bar)) # Eq. 6\n",
    "    except:\n",
    "        print(K_XX)\n",
    "    print('End')\n",
    "    return L_theta[0,0]\n",
    "\n",
    "  def fit(self, X, y, sigma_f=1.2, sigma_n=0.000008, n_restarts_optimizer=10):\n",
    "    assert len(X.shape) == 2, \"X must be 2D\"\n",
    "    assert len(y.shape) == 2, \"y must be 2D\"\n",
    "    assert y.shape[1] == 1, \"y must be of shape (*,1)\"\n",
    "\n",
    "    self.X = X\n",
    "    self.y = y\n",
    "    if self.N <= self.X.shape[0]:\n",
    "      kmeans = KMeans(n_clusters=self.N)\n",
    "      self.X_bar = kmeans.fit(X).cluster_centers_\n",
    "    else:\n",
    "      self.X_bar = X\n",
    "\n",
    "    sigma_l_bar = [1.+i*0.01 for i in range(self.input_dim)]\n",
    "    # Fitting\n",
    "    optim_fun = np.inf\n",
    "    for cycle in range(n_restarts_optimizer):\n",
    "      # initialize lengthscales for support points\n",
    "      l_bar = np.abs(np.random.rand(self.N, self.input_dim))\n",
    "      try:\n",
    "        t_params = [sigma_f]+[sigma_n]+l_bar.ravel().tolist()+sigma_l_bar\n",
    "        print(t_params)\n",
    "        res = scipy.optimize.minimize(self.objective, t_params, bounds=[(0.1,10) for _ in range(len(t_params))])\n",
    "#       except np.linalg.LinAlgError:\n",
    "#         print('cycle',cycle,'did not converge')\n",
    "#         continue\n",
    "      except ValueError:\n",
    "        print('cycle',cycle,'did not converge')\n",
    "        continue\n",
    "      # print(res.fun, 'optim value in cycle', cycle)\n",
    "      if res.fun==-np.inf:\n",
    "        print('Infinite cost')\n",
    "        continue\n",
    "      if res.fun<optim_fun:\n",
    "        optim_fun = res.fun\n",
    "        params = res.x\n",
    "        self.sigma_f = params[0]\n",
    "        self.sigma_n = params[1]\n",
    "        self.l_bar = np.array(params[2:2+self.input_dim*N]).reshape(-1,self.input_dim)\n",
    "        self.sigma_l_bar = params[-self.input_dim:]\n",
    "    \n",
    "    self.params = {'likelihood':optim_fun, 'global variance':self.sigma_f, 'noise_level':self.sigma_n**2, \n",
    "                   'N_lengthscales':self.l_bar, 'GP_l_lengthscale':self.sigma_l_bar}\n",
    "    return self\n",
    "    \n",
    "  def get_params(self):\n",
    "    return self.params\n",
    "\n",
    "  def predict(self, X_hat, return_cov=False):\n",
    "    K_XX = self.K(self.X, self.X, self.sigma_f, self.sigma_n, self.sigma_l_bar, self.l_bar, 0)\n",
    "    for d in range(1, self.X.shape[1]):\n",
    "        K_XX *= self.K(self.X, self.X, self.sigma_f, self.sigma_n, self.sigma_l_bar, self.l_bar, d)\n",
    "    np.fill_diagonal(K_XX, self.sigma_n**2)\n",
    "    K_XX_inv = np.linalg.pinv(K_XX)\n",
    "    \n",
    "    K_X_hatX = self.K(X_hat, self.X, self.sigma_f, self.sigma_n, self.sigma_l_bar, self.l_bar, 0)\n",
    "    for d in range(1, self.X.shape[1]):\n",
    "        K_X_hatX *= self.K(X_hat, self.X, self.sigma_f, self.sigma_n, self.sigma_l_bar, self.l_bar, d)\n",
    "    \n",
    "    K_X_hatX_hat = self.K(X_hat, X_hat, self.sigma_f, self.sigma_n, self.sigma_l_bar, self.l_bar, 0)\n",
    "    for d in range(1, self.X.shape[1]):\n",
    "        K_X_hatX_hat *= self.K(X_hat, X_hat, self.sigma_f, self.sigma_n, self.sigma_l_bar, self.l_bar, d)\n",
    "    \n",
    "    mean = K_X_hatX@K_XX_inv@self.y\n",
    "    if return_cov:\n",
    "      cov = K_X_hatX_hat - K_X_hatX@K_XX_inv@K_X_hatX.T\n",
    "      return mean, cov\n",
    "    return mean"
   ]
  },
  {
   "cell_type": "markdown",
   "metadata": {
    "id": "bJI6RFF3AaZD"
   },
   "source": [
    "## Step function (1d test)"
   ]
  },
  {
   "cell_type": "code",
   "execution_count": 98,
   "metadata": {
    "colab": {
     "base_uri": "https://localhost:8080/",
     "height": 287
    },
    "id": "pQ_KlCb3u5um",
    "outputId": "8dbea291-76a0-4121-d82c-048dc0de36cb"
   },
   "outputs": [
    {
     "name": "stdout",
     "output_type": "stream",
     "text": [
      "shape of train_X= (20, 1) shape of train_y= (20, 1)\n"
     ]
    },
    {
     "data": {
      "image/png": "[encoded data removed]",
      "text/plain": [
       "<Figure size 432x288 with 1 Axes>"
      ]
     },
     "metadata": {
      "needs_background": "light"
     },
     "output_type": "display_data"
    }
   ],
   "source": [
    "import matplotlib.pyplot as plt\n",
    "from sklearn.preprocessing import StandardScaler\n",
    "train_X = np.concatenate([np.linspace(0.25,0.51,10), np.linspace(0.49,0.75,10)]).reshape(-1,1)\n",
    "train_y = np.concatenate([np.ones((10, 1)), np.ones((10, 1))*2])\n",
    "test_X = np.linspace(0,1,120).reshape(-1,1)\n",
    "print(\"shape of train_X=\",train_X.shape, \"shape of train_y=\",train_y.shape)\n",
    "plt.scatter(train_X, train_y)\n",
    "plt.ylim(0,3);plt.xticks([0,0.25,0.5,0.75,1]);"
   ]
  },
  {
   "cell_type": "code",
   "execution_count": 99,
   "metadata": {
    "colab": {
     "base_uri": "https://localhost:8080/",
     "height": 1000
    },
    "id": "O91oVTr3dcvb",
    "outputId": "e7460206-178e-4bed-92c3-fcc54b5495b9",
    "scrolled": false
   },
   "outputs": [
    {
     "name": "stdout",
     "output_type": "stream",
     "text": [
      "[1.2, 8e-06, 0.05450151423333538, 1.0]\n",
      "Start\n",
      "[[0.1]]\n",
      "l_bar [[0.1]]\n",
      "E 3.2397891784383535e-32 P_s 0.01010863672705547 P_rc 0.00010218453647957474 0.1005417163522459 0.1005417163522459\n",
      "l_bar [[0.1]]\n",
      "E 1.0 P_s 0.010000000000000004 P_rc 0.00010000000000000007 0.10000000000000002 0.10000000000000002\n",
      "0.025525379534088087 before\n",
      "8.509916368375036e-07\n",
      "End\n",
      "Start\n",
      "[[0.1]]\n",
      "l_bar [[0.1]]\n",
      "E 3.2397891784383535e-32 P_s 0.01010863672705547 P_rc 0.00010218453647957474 0.1005417163522459 0.1005417163522459\n",
      "l_bar [[0.1]]\n",
      "E 1.0 P_s 0.010000000000000004 P_rc 0.00010000000000000007 0.10000000000000002 0.10000000000000002\n",
      "0.02552538804254944 before\n",
      "8.509919602550444e-07\n",
      "End\n",
      "Start\n",
      "[[0.1]]\n",
      "l_bar [[0.1]]\n",
      "E 3.2397891784383535e-32 P_s 0.01010863672705547 P_rc 0.00010218453647957474 0.1005417163522459 0.1005417163522459\n",
      "l_bar [[0.1]]\n",
      "E 1.0 P_s 0.010000000000000004 P_rc 0.00010000000000000007 0.10000000000000002 0.10000000000000002\n",
      "0.025525379534088087 before\n",
      "8.509911597943476e-07\n",
      "End\n",
      "Start\n",
      "[[0.10000001]]\n",
      "l_bar [[0.10000001]]\n",
      "E 3.2398253412437134e-32 P_s 0.010108638744039344 P_rc 0.00010218457725749332 0.10054172638282746 0.10054172638282746\n",
      "l_bar [[0.10000001]]\n",
      "E 1.0 P_s 0.010000002000000103 P_rc 0.00010000004000000607 0.10000001000000001 0.10000001000000001\n",
      "0.02552534687537059 before\n",
      "8.509969081516213e-07\n",
      "End\n",
      "Start\n",
      "[[0.1]]\n",
      "l_bar [[0.1]]\n",
      "E 3.239784819709146e-32 P_s 0.010108636724873546 P_rc 0.00010218453643546217 0.10054171634139505 0.10054171634139505\n",
      "l_bar [[0.1]]\n",
      "E 1.0 P_s 0.010000000000000004 P_rc 0.00010000000000000007 0.10000000000000002 0.10000000000000002\n",
      "0.02552538696376726 before\n",
      "8.509907915297146e-07\n",
      "End\n",
      "Start\n",
      "[[0.1]]\n",
      "l_bar [[0.1]]\n",
      "E 0.0 P_s 0.010001081824083095 P_rc 0.00010002163765200525 0.10000540897413047 0.10000540897413047\n",
      "l_bar [[0.1]]\n",
      "E 1.0 P_s 0.010000000000000004 P_rc 0.00010000000000000007 0.10000000000000002 0.10000000000000002\n",
      "2.5614836128907577e-41 before\n",
      "9.99999990161088e+39\n",
      "End\n",
      "Start\n",
      "[[0.1]]\n",
      "l_bar [[0.1]]\n",
      "E 0.0 P_s 0.010001081824083095 P_rc 0.00010002163765200525 0.10000540897413047 0.10000540897413047\n",
      "l_bar [[0.1]]\n",
      "E 1.0 P_s 0.010000000000000004 P_rc 0.00010000000000000007 0.10000000000000002 0.10000000000000002\n",
      "2.561493858845202e-41 before\n",
      "9.999999901610737e+39\n",
      "End\n",
      "Start\n",
      "[[0.1]]\n",
      "l_bar [[0.1]]\n",
      "E 0.0 P_s 0.010001081824083095 P_rc 0.00010002163765200525 0.10000540897413047 0.10000540897413047\n",
      "l_bar [[0.1]]\n",
      "E 1.0 P_s 0.010000000000000004 P_rc 0.00010000000000000007 0.10000000000000002 0.10000000000000002\n",
      "2.5614836128907577e-41 before\n",
      "9.999999501611001e+39\n",
      "End\n",
      "Start\n",
      "[[0.10000001]]\n",
      "l_bar [[0.10000001]]\n",
      "E 0.0 P_s 0.010001083824252579 P_rc 0.00010002167765972657 0.10000541897443647 0.10000541897443647\n",
      "l_bar [[0.10000001]]\n",
      "E 1.0 P_s 0.010000002000000103 P_rc 0.00010000004000000607 0.10000001000000001 0.10000001000000001\n",
      "2.5614827537600447e-41 before\n",
      "9.999999901610737e+39\n",
      "End\n",
      "Start\n",
      "[[0.1]]\n",
      "l_bar [[0.1]]\n",
      "E 0.0 P_s 0.010001081824085264 P_rc 0.00010002163765204863 0.10000540897414131 0.10000540897414131\n",
      "l_bar [[0.1]]\n",
      "E 1.0 P_s 0.010000000000000004 P_rc 0.00010000000000000007 0.10000000000000002 0.10000000000000002\n",
      "2.5614836128808566e-41 before\n",
      "9.99999990161088e+39\n",
      "End\n",
      "Start\n",
      "[[0.1]]\n",
      "l_bar [[0.1]]\n",
      "E 0.0 P_s 0.01000679829892027 P_rc 0.0001001360121952736 0.10003398571945571 0.10003398571945571\n",
      "l_bar [[0.1]]\n",
      "E 1.0 P_s 0.010000000000000004 P_rc 0.00010000000000000007 0.10000000000000002 0.10000000000000002\n",
      "0.00018179353320262046 before\n",
      "1.5807796327222338e+21\n",
      "End\n",
      "Start\n",
      "[[0.1]]\n",
      "l_bar [[0.1]]\n",
      "E 0.0 P_s 0.01000679829892027 P_rc 0.0001001360121952736 0.10003398571945571 0.10003398571945571\n",
      "l_bar [[0.1]]\n",
      "E 1.0 P_s 0.010000000000000004 P_rc 0.00010000000000000007 0.10000000000000002 0.10000000000000002\n",
      "0.00018179362033033514 before\n",
      "1.5807796324426328e+21\n",
      "End\n",
      "Start\n",
      "[[0.1]]\n",
      "l_bar [[0.1]]\n",
      "E 0.0 P_s 0.01000679829892027 P_rc 0.0001001360121952736 0.10003398571945571 0.10003398571945571\n",
      "l_bar [[0.1]]\n",
      "E 1.0 P_s 0.010000000000000004 P_rc 0.00010000000000000007 0.10000000000000002 0.10000000000000002\n",
      "0.00018179353320262046 before\n",
      "1.5807798193945012e+21\n",
      "End\n",
      "Start\n",
      "[[0.10000001]]\n",
      "l_bar [[0.10000001]]\n",
      "E 0.0 P_s 0.010006800299984677 P_rc 0.00010013605224377343 0.10003399572137803 0.10003399572137803\n",
      "l_bar [[0.10000001]]\n",
      "E 1.0 P_s 0.010000002000000103 P_rc 0.00010000004000000607 0.10000001000000001 0.10000001000000001\n",
      "0.00018179346904711864 before\n",
      "1.5807796316253952e+21\n",
      "End\n",
      "Start\n",
      "[[0.1]]\n",
      "l_bar [[0.1]]\n",
      "E 0.0 P_s 0.010006798298886175 P_rc 0.00010013601219459125 0.1000339857192853 0.1000339857192853\n",
      "l_bar [[0.1]]\n",
      "E 1.0 P_s 0.010000000000000004 P_rc 0.00010000000000000007 0.10000000000000002 0.10000000000000002\n",
      "0.00018179353323595848 before\n",
      "1.580779632723256e+21\n",
      "End\n",
      "Start\n",
      "[[0.1]]\n",
      "l_bar [[0.1]]\n",
      "E 1.0652340697986682e-125 P_s 0.010027389758388275 P_rc 0.00010054854536663007 0.10013685514528742 0.10013685514528742\n",
      "l_bar [[0.1]]\n",
      "E 1.0 P_s 0.010000000000000004 P_rc 0.00010000000000000007 0.10000000000000002 0.10000000000000002\n",
      "3.274985371435079 before\n",
      "304.13636912414626\n",
      "End\n",
      "Start\n",
      "[[0.1]]\n",
      "l_bar [[0.1]]\n",
      "E 1.0652340697986682e-125 P_s 0.010027389758388275 P_rc 0.00010054854536663007 0.10013685514528742 0.10013685514528742\n",
      "l_bar [[0.1]]\n",
      "E 1.0 P_s 0.010000000000000004 P_rc 0.00010000000000000007 0.10000000000000002 0.10000000000000002\n",
      "3.2749865852993985 before\n",
      "304.13635368730326\n",
      "End\n",
      "Start\n",
      "[[0.1]]\n",
      "l_bar [[0.1]]\n",
      "E 1.0652340697986682e-125 P_s 0.010027389758388275 P_rc 0.00010054854536663007 0.10013685514528742 0.10013685514528742\n",
      "l_bar [[0.1]]\n",
      "E 1.0 P_s 0.010000000000000004 P_rc 0.00010000000000000007 0.10000000000000002 0.10000000000000002\n",
      "3.274985371435079 before\n",
      "304.1364856226433\n",
      "End\n",
      "Start\n",
      "[[0.10000001]]\n",
      "l_bar [[0.10000001]]\n",
      "E 1.0652799226072633e-125 P_s 0.010027391762675177 P_rc 0.00010054858556216599 0.10013686515302532 0.10013686515302532\n",
      "l_bar [[0.10000001]]\n",
      "E 1.0 P_s 0.010000002000000103 P_rc 0.00010000004000000607 0.10000001000000001 0.10000001000000001\n",
      "3.2749835662572955 before\n",
      "304.13627466902176\n",
      "End\n",
      "Start\n",
      "[[0.1]]\n",
      "l_bar [[0.1]]\n",
      "E 1.0652309852423274e-125 P_s 0.010027389758112489 P_rc 0.00010054854536109924 0.10013685514391037 0.10013685514391037\n",
      "l_bar [[0.1]]\n",
      "E 1.0 P_s 0.010000000000000004 P_rc 0.00010000000000000007 0.10000000000000002 0.10000000000000002\n",
      "3.2749854143426576 before\n",
      "304.1363716850938\n",
      "End\n",
      "Start\n",
      "[[0.1]]\n",
      "l_bar [[0.1]]\n",
      "E 2.305994637198701e-55 P_s 0.01006204588933101 P_rc 0.00010124476747900307 0.10030974972220302 0.10030974972220302\n",
      "l_bar [[0.1]]\n",
      "E 1.0 P_s 0.010000000000000004 P_rc 0.00010000000000000007 0.10000000000000002 0.10000000000000002\n",
      "2.8667070533838537 before\n",
      "1.8498907727397646e-07\n",
      "End\n",
      "Start\n",
      "[[0.1]]\n",
      "l_bar [[0.1]]\n",
      "E 2.305994637198701e-55 P_s 0.01006204588933101 P_rc 0.00010124476747900307 0.10030974972220302 0.10030974972220302\n",
      "l_bar [[0.1]]\n",
      "E 1.0 P_s 0.010000000000000004 P_rc 0.00010000000000000007 0.10000000000000002 0.10000000000000002\n",
      "2.866708041357085 before\n",
      "1.8498914004125908e-07\n",
      "End\n",
      "Start\n",
      "[[0.1]]\n",
      "l_bar [[0.1]]\n",
      "E 2.305994637198701e-55 P_s 0.01006204588933101 P_rc 0.00010124476747900307 0.10030974972220302 0.10030974972220302\n",
      "l_bar [[0.1]]\n",
      "E 1.0 P_s 0.010000000000000004 P_rc 0.00010000000000000007 0.10000000000000002 0.10000000000000002\n",
      "2.8667070533838537 before\n",
      "1.8498907979544106e-07\n",
      "End\n",
      "Start\n",
      "[[0.10000001]]\n",
      "l_bar [[0.10000001]]\n",
      "E 2.3060401452448033e-55 P_s 0.010062047899037323 P_rc 0.00010124480792252141 0.1003097597397049 0.1003097597397049\n",
      "l_bar [[0.10000001]]\n",
      "E 1.0 P_s 0.010000002000000103 P_rc 0.00010000004000000607 0.10000001000000001 0.10000001000000001\n",
      "2.8667042441504162 before\n",
      "1.849895965788414e-07\n",
      "End\n",
      "Start\n",
      "[[0.1]]\n",
      "l_bar [[0.1]]\n",
      "E 2.3059907860375665e-55 P_s 0.010062045888390082 P_rc 0.00010124476746006777 0.10030974971751291 0.10030974971751291\n",
      "l_bar [[0.1]]\n",
      "E 1.0 P_s 0.010000000000000004 P_rc 0.00010000000000000007 0.10000000000000002 0.10000000000000002\n",
      "2.8667073715802793 before\n",
      "1.8498902855118862e-07\n",
      "End\n",
      "Start\n",
      "[[0.1]]\n",
      "l_bar [[0.1]]\n",
      "E 2.1236551607158522e-38 P_s 0.010089884329346667 P_rc 0.00010180576577959543 0.10044841626101761 0.10044841626101761\n",
      "l_bar [[0.1]]\n",
      "E 1.0 P_s 0.010000000000000004 P_rc 0.00010000000000000007 0.10000000000000002 0.10000000000000002\n",
      "0.20803099108038786 before\n",
      "2.3309460762028155e-06\n",
      "End\n",
      "Start\n",
      "[[0.1]]\n",
      "l_bar [[0.1]]\n",
      "E 2.1236551607158522e-38 P_s 0.010089884329346667 P_rc 0.00010180576577959543 0.10044841626101761 0.10044841626101761\n",
      "l_bar [[0.1]]\n",
      "E 1.0 P_s 0.010000000000000004 P_rc 0.00010000000000000007 0.10000000000000002 0.10000000000000002\n",
      "0.20803106113022835 before\n",
      "2.3309468099224674e-06\n",
      "End\n",
      "Start\n",
      "[[0.1]]\n",
      "l_bar [[0.1]]\n",
      "E 2.1236551607158522e-38 P_s 0.010089884329346667 P_rc 0.00010180576577959543 0.10044841626101761 0.10044841626101761\n",
      "l_bar [[0.1]]\n",
      "E 1.0 P_s 0.010000000000000004 P_rc 0.00010000000000000007 0.10000000000000002 0.10000000000000002\n",
      "0.20803099108038786 before\n",
      "2.330946367243878e-06\n",
      "End\n",
      "Start\n",
      "[[0.10000001]]\n",
      "l_bar [[0.10000001]]\n",
      "E 2.1236810834102777e-38 P_s 0.010089886343402512 P_rc 0.00010180580642278053 0.10044842628634115 0.10044842628634115\n",
      "l_bar [[0.10000001]]\n",
      "E 1.0 P_s 0.010000002000000103 P_rc 0.00010000004000000607 0.10000001000000001 0.10000001000000001\n",
      "0.20803074365726623 before\n",
      "2.330951668504054e-06\n",
      "End\n",
      "Start\n",
      "[[0.1]]\n",
      "l_bar [[0.1]]\n",
      "E 2.1236513418331318e-38 P_s 0.010089884327705148 P_rc 0.00010180576574646997 0.10044841625284666 0.10044841625284666\n",
      "l_bar [[0.1]]\n",
      "E 1.0 P_s 0.010000000000000004 P_rc 0.00010000000000000007 0.10000000000000002 0.10000000000000002\n",
      "0.20803103647036358 before\n",
      "2.3309456591492384e-06\n",
      "End\n",
      "Start\n",
      "[[0.1]]\n",
      "l_bar [[0.1]]\n",
      "E 1.1652416478575367e-33 P_s 0.010103398108878874 P_rc 0.00010207865334649722 0.10051566101299277 0.10051566101299277\n",
      "l_bar [[0.1]]\n",
      "E 1.0 P_s 0.010000000000000004 P_rc 0.00010000000000000007 0.10000000000000002 0.10000000000000002\n",
      "0.04641331334167575 before\n",
      "2.8260009193580646e-07\n",
      "End\n",
      "Start\n",
      "[[0.1]]\n",
      "l_bar [[0.1]]\n",
      "E 1.1652416478575367e-33 P_s 0.010103398108878874 P_rc 0.00010207865334649722 0.10051566101299277 0.10051566101299277\n",
      "l_bar [[0.1]]\n",
      "E 1.0 P_s 0.010000000000000004 P_rc 0.00010000000000000007 0.10000000000000002 0.10000000000000002\n",
      "0.046413328852142756 before\n",
      "2.8260015947952165e-07\n",
      "End\n",
      "Start\n",
      "[[0.1]]\n",
      "l_bar [[0.1]]\n",
      "E 1.1652416478575367e-33 P_s 0.010103398108878874 P_rc 0.00010207865334649722 0.10051566101299277 0.10051566101299277\n",
      "l_bar [[0.1]]\n",
      "E 1.0 P_s 0.010000000000000004 P_rc 0.00010000000000000007 0.10000000000000002 0.10000000000000002\n",
      "0.04641331334167575 before\n",
      "2.8260034461714723e-07\n",
      "End\n",
      "Start\n",
      "[[0.10000001]]\n",
      "l_bar [[0.10000001]]\n",
      "E 1.1652554229403614e-33 P_s 0.010103400125044936 P_rc 0.00010207869408675803 0.10051567104210635 0.10051567104210635\n",
      "l_bar [[0.10000001]]\n",
      "E 1.0 P_s 0.010000002000000103 P_rc 0.00010000004000000607 0.10000001000000001 0.10000001000000001\n",
      "0.046413254991201316 before\n",
      "2.825994775746622e-07\n",
      "End\n",
      "Start\n",
      "[[0.1]]\n",
      "l_bar [[0.1]]\n",
      "E 1.1652401057020697e-33 P_s 0.01010339810685306 P_rc 0.00010207865330556201 0.10051566100291566 0.10051566100291566\n",
      "l_bar [[0.1]]\n",
      "E 1.0 P_s 0.010000000000000004 P_rc 0.00010000000000000007 0.10000000000000002 0.10000000000000002\n",
      "0.04641332590700822 before\n",
      "2.8260027716131637e-07\n",
      "End\n",
      "Start\n",
      "[[0.1]]\n",
      "l_bar [[0.1]]\n",
      "E 2.4813917980019277e-32 P_s 0.010108205235580897 P_rc 0.00010217581308462506 0.10053957049630209 0.10053957049630209\n",
      "l_bar [[0.1]]\n",
      "E 1.0 P_s 0.010000000000000004 P_rc 0.00010000000000000007 0.10000000000000002 0.10000000000000002\n",
      "0.026820287256719297 before\n",
      "5.991778374323364e-07\n",
      "End\n",
      "Start\n",
      "[[0.1]]\n",
      "l_bar [[0.1]]\n",
      "E 2.4813917980019277e-32 P_s 0.010108205235580897 P_rc 0.00010217581308462506 0.10053957049630209 0.10053957049630209\n",
      "l_bar [[0.1]]\n",
      "E 1.0 P_s 0.010000000000000004 P_rc 0.00010000000000000007 0.10000000000000002 0.10000000000000002\n",
      "0.026820296198622987 before\n",
      "5.991780712045707e-07\n",
      "End\n",
      "Start\n",
      "[[0.1]]\n",
      "l_bar [[0.1]]\n",
      "E 2.4813917980019277e-32 P_s 0.010108205235580897 P_rc 0.00010217581308462506 0.10053957049630209 0.10053957049630209\n",
      "l_bar [[0.1]]\n",
      "E 1.0 P_s 0.010000000000000004 P_rc 0.00010000000000000007 0.10000000000000002 0.10000000000000002\n",
      "0.026820287256719297 before\n",
      "5.991774381557492e-07\n",
      "End\n",
      "Start\n",
      "[[0.10000001]]\n",
      "l_bar [[0.10000001]]\n",
      "E 2.4814196261781237e-32 P_s 0.01010820725249742 P_rc 0.00010217585385944143 0.10053958052676279 0.10053958052676279\n",
      "l_bar [[0.10000001]]\n",
      "E 1.0 P_s 0.010000002000000103 P_rc 0.00010000004000000607 0.10000001000000001 0.10000001000000001\n",
      "0.02682025298846359 before\n",
      "5.991819158278137e-07\n",
      "End\n",
      "Start\n",
      "[[0.1]]\n",
      "l_bar [[0.1]]\n",
      "E 2.481388463731475e-32 P_s 0.010108205233411983 P_rc 0.0001021758130407774 0.10053957048551572 0.10053957048551572\n",
      "l_bar [[0.1]]\n",
      "E 1.0 P_s 0.010000000000000004 P_rc 0.00010000000000000007 0.10000000000000002 0.10000000000000002\n",
      "0.026820295018360977 before\n",
      "5.991771707643012e-07\n",
      "End\n",
      "Start\n",
      "[[0.1]]\n",
      "l_bar [[0.1]]\n",
      "E 1.8673008886017968e-32 P_s 0.010107747450719193 P_rc 0.00010216655852752035 0.1005372938302956 0.1005372938302956\n",
      "l_bar [[0.1]]\n",
      "E 1.0 P_s 0.010000000000000004 P_rc 0.00010000000000000007 0.10000000000000002 0.10000000000000002\n",
      "0.028264794203785925 before\n",
      "3.8729843647522924e-07\n",
      "End\n",
      "Start\n",
      "[[0.1]]\n",
      "l_bar [[0.1]]\n",
      "E 1.8673008886017968e-32 P_s 0.010107747450719193 P_rc 0.00010216655852752035 0.1005372938302956 0.1005372938302956\n",
      "l_bar [[0.1]]\n",
      "E 1.0 P_s 0.010000000000000004 P_rc 0.00010000000000000007 0.10000000000000002 0.10000000000000002\n",
      "0.02826480362932199 before\n",
      "3.8729859351219316e-07\n",
      "End\n",
      "Start\n",
      "[[0.1]]\n",
      "l_bar [[0.1]]\n",
      "E 1.8673008886017968e-32 P_s 0.010107747450719193 P_rc 0.00010216655852752035 0.1005372938302956 0.1005372938302956\n",
      "l_bar [[0.1]]\n",
      "E 1.0 P_s 0.010000000000000004 P_rc 0.00010000000000000007 0.10000000000000002 0.10000000000000002\n",
      "0.028264794203785925 before\n",
      "3.872981164491447e-07\n",
      "End\n",
      "Start\n",
      "[[0.10000001]]\n",
      "l_bar [[0.10000001]]\n",
      "E 1.867321934825445e-32 P_s 0.01010774946756425 P_rc 0.00010216659929904539 0.10053730386062802 0.10053730386062802\n",
      "l_bar [[0.10000001]]\n",
      "E 1.0 P_s 0.010000002000000103 P_rc 0.00010000004000000607 0.10000001000000001 0.10000001000000001\n",
      "0.028264758143095797 before\n",
      "3.8730143039680294e-07\n",
      "End\n",
      "Start\n",
      "[[0.1]]\n",
      "l_bar [[0.1]]\n",
      "E 1.8672983828392142e-32 P_s 0.010107747448564032 P_rc 0.0001021665584839527 0.10053729381957738 0.10053729381957738\n",
      "l_bar [[0.1]]\n",
      "E 1.0 P_s 0.010000000000000004 P_rc 0.00010000000000000007 0.10000000000000002 0.10000000000000002\n",
      "0.028264802333207797 before\n",
      "3.872979356308927e-07\n",
      "End\n",
      "Start\n",
      "[[0.1]]\n",
      "l_bar [[0.1]]\n",
      "E 4.642261017486365e-33 P_s 0.010105539135310112 P_rc 0.00010212192121528425 0.10052631066198596 0.10052631066198596\n",
      "l_bar [[0.1]]\n",
      "E 1.0 P_s 0.010000000000000004 P_rc 0.00010000000000000007 0.10000000000000002 0.10000000000000002\n",
      "0.03637995701199948 before\n",
      "-1.1110535290098818e-09\n",
      "End\n",
      "Start\n",
      "[[0.1]]\n",
      "l_bar [[0.1]]\n",
      "E 4.642261017486365e-33 P_s 0.010105539135310112 P_rc 0.00010212192121528425 0.10052631066198596 0.10052631066198596\n",
      "l_bar [[0.1]]\n",
      "E 1.0 P_s 0.010000000000000004 P_rc 0.00010000000000000007 0.10000000000000002 0.10000000000000002\n",
      "0.03637996915659933 before\n",
      "-1.1110551073443737e-09\n",
      "End\n",
      "Start\n",
      "[[0.1]]\n",
      "l_bar [[0.1]]\n",
      "E 4.642261017486365e-33 P_s 0.010105539135310112 P_rc 0.00010212192121528425 0.10052631066198596 0.10052631066198596\n",
      "l_bar [[0.1]]\n",
      "E 1.0 P_s 0.010000000000000004 P_rc 0.00010000000000000007 0.10000000000000002 0.10000000000000002\n",
      "0.03637995701199948 before\n",
      "-1.1110410522621453e-09\n",
      "End\n",
      "Start\n",
      "[[0.10000001]]\n",
      "l_bar [[0.10000001]]\n",
      "E 4.642314620213743e-33 P_s 0.010105541151810435 P_rc 0.00010212196197093416 0.10052632069169962 0.10052632069169962\n",
      "l_bar [[0.10000001]]\n",
      "E 1.0 P_s 0.010000002000000103 P_rc 0.00010000004000000607 0.10000001000000001 0.10000001000000001\n",
      "0.03637991093565691 before\n",
      "-1.1111322279148314e-09\n",
      "End\n",
      "Start\n",
      "[[0.1]]\n",
      "l_bar [[0.1]]\n",
      "E 4.6422548299440846e-33 P_s 0.010105539133220967 P_rc 0.00010212192117306038 0.10052631065159492 0.10052631065159492\n",
      "l_bar [[0.1]]\n",
      "E 1.0 P_s 0.010000000000000004 P_rc 0.00010000000000000007 0.10000000000000002 0.10000000000000002\n",
      "0.03637996716349795 before\n",
      "-1.1110392416843677e-09\n",
      "End\n",
      "Start\n",
      "[[0.1]]\n",
      "l_bar [[0.1]]\n",
      "E 7.926821711286406e-06 P_s 0.02622456847821746 P_rc 0.0006877279918687168 0.16194001506180447 0.16194001506180447\n",
      "l_bar [[0.1]]\n",
      "E 1.0 P_s 0.010000000000000004 P_rc 0.00010000000000000007 0.10000000000000002 0.10000000000000002\n",
      "1.755128786425796e-101 before\n",
      "1.755128786425796e-101\n",
      "End\n",
      "Start\n",
      "[[0.1]]\n",
      "l_bar [[0.1]]\n",
      "E 7.926821711286406e-06 P_s 0.02622456847821746 P_rc 0.0006877279918687168 0.16194001506180447 0.16194001506180447\n",
      "l_bar [[0.1]]\n",
      "E 1.0 P_s 0.010000000000000004 P_rc 0.00010000000000000007 0.10000000000000002 0.10000000000000002\n",
      "1.7551265313854148e-101 before\n",
      "2.563093471281538e-92\n",
      "End\n",
      "Start\n",
      "[[0.1]]\n",
      "l_bar [[0.1]]\n",
      "E 7.926821711286406e-06 P_s 0.02622456847821746 P_rc 0.0006877279918687168 0.16194001506180447 0.16194001506180447\n",
      "l_bar [[0.1]]\n",
      "E 1.0 P_s 0.010000000000000004 P_rc 0.00010000000000000007 0.10000000000000002 0.10000000000000002\n",
      "1.755128786425796e-101 before\n",
      "5.914808843766654e-92\n",
      "End\n",
      "Start\n",
      "[[0.10000001]]\n",
      "l_bar [[0.10000001]]\n",
      "E 7.926821711286406e-06 P_s 0.02622457262508669 P_rc 0.0006877282093684462 0.161940027865524 0.161940027865524\n",
      "l_bar [[0.10000001]]\n",
      "E 1.0 P_s 0.010000002000000103 P_rc 0.00010000004000000607 0.10000001000000001 0.10000001000000001\n",
      "1.755119488269287e-101 before\n",
      "1.755119488269287e-101\n",
      "End\n",
      "Start\n",
      "[[0.1]]\n",
      "l_bar [[0.1]]\n",
      "E 7.926821711286406e-06 P_s 0.026224563992225502 P_rc 0.0006877277565823304 0.16194000121102106 0.16194000121102106\n",
      "l_bar [[0.1]]\n",
      "E 1.0 P_s 0.010000000000000004 P_rc 0.00010000000000000007 0.10000000000000002 0.10000000000000002\n",
      "1.7551156585906648e-101 before\n",
      "1.7551164631287755e-101\n",
      "End\n",
      "Start\n",
      "[[nan]]\n",
      "l_bar [[nan]]\n",
      "E nan P_s nan P_rc nan nan nan\n",
      "l_bar [[nan]]\n"
     ]
    },
    {
     "name": "stdout",
     "output_type": "stream",
     "text": [
      "E nan P_s nan P_rc nan nan nan\n",
      "nan before\n",
      "nan\n",
      "[[nan nan nan nan nan nan nan nan nan nan nan nan nan nan nan nan nan nan\n",
      "  nan nan]\n",
      " [nan nan nan nan nan nan nan nan nan nan nan nan nan nan nan nan nan nan\n",
      "  nan nan]\n",
      " [nan nan nan nan nan nan nan nan nan nan nan nan nan nan nan nan nan nan\n",
      "  nan nan]\n",
      " [nan nan nan nan nan nan nan nan nan nan nan nan nan nan nan nan nan nan\n",
      "  nan nan]\n",
      " [nan nan nan nan nan nan nan nan nan nan nan nan nan nan nan nan nan nan\n",
      "  nan nan]\n",
      " [nan nan nan nan nan nan nan nan nan nan nan nan nan nan nan nan nan nan\n",
      "  nan nan]\n",
      " [nan nan nan nan nan nan nan nan nan nan nan nan nan nan nan nan nan nan\n",
      "  nan nan]\n",
      " [nan nan nan nan nan nan nan nan nan nan nan nan nan nan nan nan nan nan\n",
      "  nan nan]\n",
      " [nan nan nan nan nan nan nan nan nan nan nan nan nan nan nan nan nan nan\n",
      "  nan nan]\n",
      " [nan nan nan nan nan nan nan nan nan nan nan nan nan nan nan nan nan nan\n",
      "  nan nan]\n",
      " [nan nan nan nan nan nan nan nan nan nan nan nan nan nan nan nan nan nan\n",
      "  nan nan]\n",
      " [nan nan nan nan nan nan nan nan nan nan nan nan nan nan nan nan nan nan\n",
      "  nan nan]\n",
      " [nan nan nan nan nan nan nan nan nan nan nan nan nan nan nan nan nan nan\n",
      "  nan nan]\n",
      " [nan nan nan nan nan nan nan nan nan nan nan nan nan nan nan nan nan nan\n",
      "  nan nan]\n",
      " [nan nan nan nan nan nan nan nan nan nan nan nan nan nan nan nan nan nan\n",
      "  nan nan]\n",
      " [nan nan nan nan nan nan nan nan nan nan nan nan nan nan nan nan nan nan\n",
      "  nan nan]\n",
      " [nan nan nan nan nan nan nan nan nan nan nan nan nan nan nan nan nan nan\n",
      "  nan nan]\n",
      " [nan nan nan nan nan nan nan nan nan nan nan nan nan nan nan nan nan nan\n",
      "  nan nan]\n",
      " [nan nan nan nan nan nan nan nan nan nan nan nan nan nan nan nan nan nan\n",
      "  nan nan]\n",
      " [nan nan nan nan nan nan nan nan nan nan nan nan nan nan nan nan nan nan\n",
      "  nan nan]]\n",
      "End\n"
     ]
    },
    {
     "name": "stderr",
     "output_type": "stream",
     "text": [
      "/home/patel_zeel/anaconda3/lib/python3.7/site-packages/ipykernel_launcher.py:71: RuntimeWarning: invalid value encountered in log\n",
      "/home/patel_zeel/anaconda3/lib/python3.7/site-packages/numpy/linalg/linalg.py:2159: RuntimeWarning: invalid value encountered in det\n",
      "  r = _umath_linalg.det(a, signature=signature)\n"
     ]
    },
    {
     "ename": "UnboundLocalError",
     "evalue": "local variable 'L_theta' referenced before assignment",
     "output_type": "error",
     "traceback": [
      "\u001b[0;31m---------------------------------------------------------------------------\u001b[0m",
      "\u001b[0;31mUnboundLocalError\u001b[0m                         Traceback (most recent call last)",
      "\u001b[0;32m<ipython-input-99-4fe318efc8db>\u001b[0m in \u001b[0;36m<module>\u001b[0;34m\u001b[0m\n\u001b[1;32m     24\u001b[0m \u001b[0;32mfor\u001b[0m \u001b[0mN\u001b[0m \u001b[0;32min\u001b[0m \u001b[0;34m[\u001b[0m\u001b[0;36m1\u001b[0m\u001b[0;34m,\u001b[0m\u001b[0;36m2\u001b[0m\u001b[0;34m,\u001b[0m\u001b[0;36m3\u001b[0m\u001b[0;34m,\u001b[0m\u001b[0;36m4\u001b[0m\u001b[0;34m,\u001b[0m\u001b[0;36m5\u001b[0m\u001b[0;34m,\u001b[0m\u001b[0;36m6\u001b[0m\u001b[0;34m]\u001b[0m\u001b[0;34m:\u001b[0m\u001b[0;34m\u001b[0m\u001b[0;34m\u001b[0m\u001b[0m\n\u001b[1;32m     25\u001b[0m     \u001b[0mmodel\u001b[0m \u001b[0;34m=\u001b[0m \u001b[0mLLS\u001b[0m\u001b[0;34m(\u001b[0m\u001b[0mN\u001b[0m\u001b[0;34m=\u001b[0m\u001b[0mN\u001b[0m\u001b[0;34m,\u001b[0m \u001b[0minput_dim\u001b[0m\u001b[0;34m=\u001b[0m\u001b[0;36m1\u001b[0m\u001b[0;34m)\u001b[0m\u001b[0;34m\u001b[0m\u001b[0;34m\u001b[0m\u001b[0m\n\u001b[0;32m---> 26\u001b[0;31m     \u001b[0mfit_predict_plot\u001b[0m\u001b[0;34m(\u001b[0m\u001b[0;34m'LLS Kernel fit: N='\u001b[0m\u001b[0;34m+\u001b[0m\u001b[0mstr\u001b[0m\u001b[0;34m(\u001b[0m\u001b[0mN\u001b[0m\u001b[0;34m)\u001b[0m\u001b[0;34m)\u001b[0m\u001b[0;34m\u001b[0m\u001b[0;34m\u001b[0m\u001b[0m\n\u001b[0m",
      "\u001b[0;32m<ipython-input-99-4fe318efc8db>\u001b[0m in \u001b[0;36mfit_predict_plot\u001b[0;34m(title)\u001b[0m\n\u001b[1;32m      5\u001b[0m     \u001b[0mtrain_XX\u001b[0m \u001b[0;34m=\u001b[0m \u001b[0mscaler\u001b[0m\u001b[0;34m.\u001b[0m\u001b[0mfit_transform\u001b[0m\u001b[0;34m(\u001b[0m\u001b[0mtrain_X\u001b[0m\u001b[0;34m)\u001b[0m\u001b[0;34m\u001b[0m\u001b[0;34m\u001b[0m\u001b[0m\n\u001b[1;32m      6\u001b[0m     \u001b[0mtest_XX\u001b[0m \u001b[0;34m=\u001b[0m \u001b[0mscaler\u001b[0m\u001b[0;34m.\u001b[0m\u001b[0mtransform\u001b[0m\u001b[0;34m(\u001b[0m\u001b[0mtest_X\u001b[0m\u001b[0;34m)\u001b[0m\u001b[0;34m\u001b[0m\u001b[0;34m\u001b[0m\u001b[0m\n\u001b[0;32m----> 7\u001b[0;31m     \u001b[0mmodel\u001b[0m\u001b[0;34m.\u001b[0m\u001b[0mfit\u001b[0m\u001b[0;34m(\u001b[0m\u001b[0mtrain_XX\u001b[0m\u001b[0;34m,\u001b[0m \u001b[0mtrain_y\u001b[0m\u001b[0;34m)\u001b[0m\u001b[0;34m\u001b[0m\u001b[0;34m\u001b[0m\u001b[0m\n\u001b[0m\u001b[1;32m      8\u001b[0m     \u001b[0mpred_y\u001b[0m\u001b[0;34m,\u001b[0m \u001b[0mpred_cov\u001b[0m \u001b[0;34m=\u001b[0m \u001b[0mmodel\u001b[0m\u001b[0;34m.\u001b[0m\u001b[0mpredict\u001b[0m\u001b[0;34m(\u001b[0m\u001b[0mtest_XX\u001b[0m\u001b[0;34m,\u001b[0m \u001b[0mreturn_cov\u001b[0m\u001b[0;34m=\u001b[0m\u001b[0;32mTrue\u001b[0m\u001b[0;34m)\u001b[0m\u001b[0;34m\u001b[0m\u001b[0;34m\u001b[0m\u001b[0m\n\u001b[1;32m      9\u001b[0m     \u001b[0mpred_std\u001b[0m \u001b[0;34m=\u001b[0m \u001b[0;34m(\u001b[0m\u001b[0mpred_cov\u001b[0m\u001b[0;34m.\u001b[0m\u001b[0mdiagonal\u001b[0m\u001b[0;34m(\u001b[0m\u001b[0;34m)\u001b[0m\u001b[0;34m**\u001b[0m\u001b[0;36m0.5\u001b[0m\u001b[0;34m*\u001b[0m\u001b[0;36m2\u001b[0m\u001b[0;34m)\u001b[0m\u001b[0;34m.\u001b[0m\u001b[0msqueeze\u001b[0m\u001b[0;34m(\u001b[0m\u001b[0;34m)\u001b[0m\u001b[0;34m\u001b[0m\u001b[0;34m\u001b[0m\u001b[0m\n",
      "\u001b[0;32m<ipython-input-97-14ce55fb985f>\u001b[0m in \u001b[0;36mfit\u001b[0;34m(self, X, y, sigma_f, sigma_n, n_restarts_optimizer)\u001b[0m\n\u001b[1;32m     98\u001b[0m         \u001b[0mt_params\u001b[0m \u001b[0;34m=\u001b[0m \u001b[0;34m[\u001b[0m\u001b[0msigma_f\u001b[0m\u001b[0;34m]\u001b[0m\u001b[0;34m+\u001b[0m\u001b[0;34m[\u001b[0m\u001b[0msigma_n\u001b[0m\u001b[0;34m]\u001b[0m\u001b[0;34m+\u001b[0m\u001b[0ml_bar\u001b[0m\u001b[0;34m.\u001b[0m\u001b[0mravel\u001b[0m\u001b[0;34m(\u001b[0m\u001b[0;34m)\u001b[0m\u001b[0;34m.\u001b[0m\u001b[0mtolist\u001b[0m\u001b[0;34m(\u001b[0m\u001b[0;34m)\u001b[0m\u001b[0;34m+\u001b[0m\u001b[0msigma_l_bar\u001b[0m\u001b[0;34m\u001b[0m\u001b[0;34m\u001b[0m\u001b[0m\n\u001b[1;32m     99\u001b[0m         \u001b[0mprint\u001b[0m\u001b[0;34m(\u001b[0m\u001b[0mt_params\u001b[0m\u001b[0;34m)\u001b[0m\u001b[0;34m\u001b[0m\u001b[0;34m\u001b[0m\u001b[0m\n\u001b[0;32m--> 100\u001b[0;31m         \u001b[0mres\u001b[0m \u001b[0;34m=\u001b[0m \u001b[0mscipy\u001b[0m\u001b[0;34m.\u001b[0m\u001b[0moptimize\u001b[0m\u001b[0;34m.\u001b[0m\u001b[0mminimize\u001b[0m\u001b[0;34m(\u001b[0m\u001b[0mself\u001b[0m\u001b[0;34m.\u001b[0m\u001b[0mobjective\u001b[0m\u001b[0;34m,\u001b[0m \u001b[0mt_params\u001b[0m\u001b[0;34m,\u001b[0m \u001b[0mbounds\u001b[0m\u001b[0;34m=\u001b[0m\u001b[0;34m[\u001b[0m\u001b[0;34m(\u001b[0m\u001b[0;36m0.1\u001b[0m\u001b[0;34m,\u001b[0m\u001b[0;36m10\u001b[0m\u001b[0;34m)\u001b[0m \u001b[0;32mfor\u001b[0m \u001b[0m_\u001b[0m \u001b[0;32min\u001b[0m \u001b[0mrange\u001b[0m\u001b[0;34m(\u001b[0m\u001b[0mlen\u001b[0m\u001b[0;34m(\u001b[0m\u001b[0mt_params\u001b[0m\u001b[0;34m)\u001b[0m\u001b[0;34m)\u001b[0m\u001b[0;34m]\u001b[0m\u001b[0;34m)\u001b[0m\u001b[0;34m\u001b[0m\u001b[0;34m\u001b[0m\u001b[0m\n\u001b[0m\u001b[1;32m    101\u001b[0m \u001b[0;31m#       except np.linalg.LinAlgError:\u001b[0m\u001b[0;34m\u001b[0m\u001b[0;34m\u001b[0m\u001b[0;34m\u001b[0m\u001b[0m\n\u001b[1;32m    102\u001b[0m \u001b[0;31m#         print('cycle',cycle,'did not converge')\u001b[0m\u001b[0;34m\u001b[0m\u001b[0;34m\u001b[0m\u001b[0;34m\u001b[0m\u001b[0m\n",
      "\u001b[0;32m~/anaconda3/lib/python3.7/site-packages/scipy/optimize/_minimize.py\u001b[0m in \u001b[0;36mminimize\u001b[0;34m(fun, x0, args, method, jac, hess, hessp, bounds, constraints, tol, callback, options)\u001b[0m\n\u001b[1;32m    616\u001b[0m     \u001b[0;32melif\u001b[0m \u001b[0mmeth\u001b[0m \u001b[0;34m==\u001b[0m \u001b[0;34m'l-bfgs-b'\u001b[0m\u001b[0;34m:\u001b[0m\u001b[0;34m\u001b[0m\u001b[0;34m\u001b[0m\u001b[0m\n\u001b[1;32m    617\u001b[0m         return _minimize_lbfgsb(fun, x0, args, jac, bounds,\n\u001b[0;32m--> 618\u001b[0;31m                                 callback=callback, **options)\n\u001b[0m\u001b[1;32m    619\u001b[0m     \u001b[0;32melif\u001b[0m \u001b[0mmeth\u001b[0m \u001b[0;34m==\u001b[0m \u001b[0;34m'tnc'\u001b[0m\u001b[0;34m:\u001b[0m\u001b[0;34m\u001b[0m\u001b[0;34m\u001b[0m\u001b[0m\n\u001b[1;32m    620\u001b[0m         return _minimize_tnc(fun, x0, args, jac, bounds, callback=callback,\n",
      "\u001b[0;32m~/anaconda3/lib/python3.7/site-packages/scipy/optimize/lbfgsb.py\u001b[0m in \u001b[0;36m_minimize_lbfgsb\u001b[0;34m(fun, x0, args, jac, bounds, disp, maxcor, ftol, gtol, eps, maxfun, maxiter, iprint, callback, maxls, finite_diff_rel_step, **unknown_options)\u001b[0m\n\u001b[1;32m    358\u001b[0m             \u001b[0;31m# until the completion of the current minimization iteration.\u001b[0m\u001b[0;34m\u001b[0m\u001b[0;34m\u001b[0m\u001b[0;34m\u001b[0m\u001b[0m\n\u001b[1;32m    359\u001b[0m             \u001b[0;31m# Overwrite f and g:\u001b[0m\u001b[0;34m\u001b[0m\u001b[0;34m\u001b[0m\u001b[0;34m\u001b[0m\u001b[0m\n\u001b[0;32m--> 360\u001b[0;31m             \u001b[0mf\u001b[0m\u001b[0;34m,\u001b[0m \u001b[0mg\u001b[0m \u001b[0;34m=\u001b[0m \u001b[0mfunc_and_grad\u001b[0m\u001b[0;34m(\u001b[0m\u001b[0mx\u001b[0m\u001b[0;34m)\u001b[0m\u001b[0;34m\u001b[0m\u001b[0;34m\u001b[0m\u001b[0m\n\u001b[0m\u001b[1;32m    361\u001b[0m         \u001b[0;32melif\u001b[0m \u001b[0mtask_str\u001b[0m\u001b[0;34m.\u001b[0m\u001b[0mstartswith\u001b[0m\u001b[0;34m(\u001b[0m\u001b[0;34mb'NEW_X'\u001b[0m\u001b[0;34m)\u001b[0m\u001b[0;34m:\u001b[0m\u001b[0;34m\u001b[0m\u001b[0;34m\u001b[0m\u001b[0m\n\u001b[1;32m    362\u001b[0m             \u001b[0;31m# new iteration\u001b[0m\u001b[0;34m\u001b[0m\u001b[0;34m\u001b[0m\u001b[0;34m\u001b[0m\u001b[0m\n",
      "\u001b[0;32m~/anaconda3/lib/python3.7/site-packages/scipy/optimize/_differentiable_functions.py\u001b[0m in \u001b[0;36mfun_and_grad\u001b[0;34m(self, x)\u001b[0m\n\u001b[1;32m    198\u001b[0m         \u001b[0;32mif\u001b[0m \u001b[0;32mnot\u001b[0m \u001b[0mnp\u001b[0m\u001b[0;34m.\u001b[0m\u001b[0marray_equal\u001b[0m\u001b[0;34m(\u001b[0m\u001b[0mx\u001b[0m\u001b[0;34m,\u001b[0m \u001b[0mself\u001b[0m\u001b[0;34m.\u001b[0m\u001b[0mx\u001b[0m\u001b[0;34m)\u001b[0m\u001b[0;34m:\u001b[0m\u001b[0;34m\u001b[0m\u001b[0;34m\u001b[0m\u001b[0m\n\u001b[1;32m    199\u001b[0m             \u001b[0mself\u001b[0m\u001b[0;34m.\u001b[0m\u001b[0m_update_x_impl\u001b[0m\u001b[0;34m(\u001b[0m\u001b[0mx\u001b[0m\u001b[0;34m)\u001b[0m\u001b[0;34m\u001b[0m\u001b[0;34m\u001b[0m\u001b[0m\n\u001b[0;32m--> 200\u001b[0;31m         \u001b[0mself\u001b[0m\u001b[0;34m.\u001b[0m\u001b[0m_update_fun\u001b[0m\u001b[0;34m(\u001b[0m\u001b[0;34m)\u001b[0m\u001b[0;34m\u001b[0m\u001b[0;34m\u001b[0m\u001b[0m\n\u001b[0m\u001b[1;32m    201\u001b[0m         \u001b[0mself\u001b[0m\u001b[0;34m.\u001b[0m\u001b[0m_update_grad\u001b[0m\u001b[0;34m(\u001b[0m\u001b[0;34m)\u001b[0m\u001b[0;34m\u001b[0m\u001b[0;34m\u001b[0m\u001b[0m\n\u001b[1;32m    202\u001b[0m         \u001b[0;32mreturn\u001b[0m \u001b[0mself\u001b[0m\u001b[0;34m.\u001b[0m\u001b[0mf\u001b[0m\u001b[0;34m,\u001b[0m \u001b[0mself\u001b[0m\u001b[0;34m.\u001b[0m\u001b[0mg\u001b[0m\u001b[0;34m\u001b[0m\u001b[0;34m\u001b[0m\u001b[0m\n",
      "\u001b[0;32m~/anaconda3/lib/python3.7/site-packages/scipy/optimize/_differentiable_functions.py\u001b[0m in \u001b[0;36m_update_fun\u001b[0;34m(self)\u001b[0m\n\u001b[1;32m    164\u001b[0m     \u001b[0;32mdef\u001b[0m \u001b[0m_update_fun\u001b[0m\u001b[0;34m(\u001b[0m\u001b[0mself\u001b[0m\u001b[0;34m)\u001b[0m\u001b[0;34m:\u001b[0m\u001b[0;34m\u001b[0m\u001b[0;34m\u001b[0m\u001b[0m\n\u001b[1;32m    165\u001b[0m         \u001b[0;32mif\u001b[0m \u001b[0;32mnot\u001b[0m \u001b[0mself\u001b[0m\u001b[0;34m.\u001b[0m\u001b[0mf_updated\u001b[0m\u001b[0;34m:\u001b[0m\u001b[0;34m\u001b[0m\u001b[0;34m\u001b[0m\u001b[0m\n\u001b[0;32m--> 166\u001b[0;31m             \u001b[0mself\u001b[0m\u001b[0;34m.\u001b[0m\u001b[0m_update_fun_impl\u001b[0m\u001b[0;34m(\u001b[0m\u001b[0;34m)\u001b[0m\u001b[0;34m\u001b[0m\u001b[0;34m\u001b[0m\u001b[0m\n\u001b[0m\u001b[1;32m    167\u001b[0m             \u001b[0mself\u001b[0m\u001b[0;34m.\u001b[0m\u001b[0mf_updated\u001b[0m \u001b[0;34m=\u001b[0m \u001b[0;32mTrue\u001b[0m\u001b[0;34m\u001b[0m\u001b[0;34m\u001b[0m\u001b[0m\n\u001b[1;32m    168\u001b[0m \u001b[0;34m\u001b[0m\u001b[0m\n",
      "\u001b[0;32m~/anaconda3/lib/python3.7/site-packages/scipy/optimize/_differentiable_functions.py\u001b[0m in \u001b[0;36mupdate_fun\u001b[0;34m()\u001b[0m\n\u001b[1;32m     71\u001b[0m \u001b[0;34m\u001b[0m\u001b[0m\n\u001b[1;32m     72\u001b[0m         \u001b[0;32mdef\u001b[0m \u001b[0mupdate_fun\u001b[0m\u001b[0;34m(\u001b[0m\u001b[0;34m)\u001b[0m\u001b[0;34m:\u001b[0m\u001b[0;34m\u001b[0m\u001b[0;34m\u001b[0m\u001b[0m\n\u001b[0;32m---> 73\u001b[0;31m             \u001b[0mself\u001b[0m\u001b[0;34m.\u001b[0m\u001b[0mf\u001b[0m \u001b[0;34m=\u001b[0m \u001b[0mfun_wrapped\u001b[0m\u001b[0;34m(\u001b[0m\u001b[0mself\u001b[0m\u001b[0;34m.\u001b[0m\u001b[0mx\u001b[0m\u001b[0;34m)\u001b[0m\u001b[0;34m\u001b[0m\u001b[0;34m\u001b[0m\u001b[0m\n\u001b[0m\u001b[1;32m     74\u001b[0m \u001b[0;34m\u001b[0m\u001b[0m\n\u001b[1;32m     75\u001b[0m         \u001b[0mself\u001b[0m\u001b[0;34m.\u001b[0m\u001b[0m_update_fun_impl\u001b[0m \u001b[0;34m=\u001b[0m \u001b[0mupdate_fun\u001b[0m\u001b[0;34m\u001b[0m\u001b[0;34m\u001b[0m\u001b[0m\n",
      "\u001b[0;32m~/anaconda3/lib/python3.7/site-packages/scipy/optimize/_differentiable_functions.py\u001b[0m in \u001b[0;36mfun_wrapped\u001b[0;34m(x)\u001b[0m\n\u001b[1;32m     68\u001b[0m         \u001b[0;32mdef\u001b[0m \u001b[0mfun_wrapped\u001b[0m\u001b[0;34m(\u001b[0m\u001b[0mx\u001b[0m\u001b[0;34m)\u001b[0m\u001b[0;34m:\u001b[0m\u001b[0;34m\u001b[0m\u001b[0;34m\u001b[0m\u001b[0m\n\u001b[1;32m     69\u001b[0m             \u001b[0mself\u001b[0m\u001b[0;34m.\u001b[0m\u001b[0mnfev\u001b[0m \u001b[0;34m+=\u001b[0m \u001b[0;36m1\u001b[0m\u001b[0;34m\u001b[0m\u001b[0;34m\u001b[0m\u001b[0m\n\u001b[0;32m---> 70\u001b[0;31m             \u001b[0;32mreturn\u001b[0m \u001b[0mfun\u001b[0m\u001b[0;34m(\u001b[0m\u001b[0mx\u001b[0m\u001b[0;34m,\u001b[0m \u001b[0;34m*\u001b[0m\u001b[0margs\u001b[0m\u001b[0;34m)\u001b[0m\u001b[0;34m\u001b[0m\u001b[0;34m\u001b[0m\u001b[0m\n\u001b[0m\u001b[1;32m     71\u001b[0m \u001b[0;34m\u001b[0m\u001b[0m\n\u001b[1;32m     72\u001b[0m         \u001b[0;32mdef\u001b[0m \u001b[0mupdate_fun\u001b[0m\u001b[0;34m(\u001b[0m\u001b[0;34m)\u001b[0m\u001b[0;34m:\u001b[0m\u001b[0;34m\u001b[0m\u001b[0;34m\u001b[0m\u001b[0m\n",
      "\u001b[0;32m<ipython-input-97-14ce55fb985f>\u001b[0m in \u001b[0;36mobjective\u001b[0;34m(self, params)\u001b[0m\n\u001b[1;32m     74\u001b[0m         \u001b[0mprint\u001b[0m\u001b[0;34m(\u001b[0m\u001b[0mK_XX\u001b[0m\u001b[0;34m)\u001b[0m\u001b[0;34m\u001b[0m\u001b[0;34m\u001b[0m\u001b[0m\n\u001b[1;32m     75\u001b[0m     \u001b[0mprint\u001b[0m\u001b[0;34m(\u001b[0m\u001b[0;34m'End'\u001b[0m\u001b[0;34m)\u001b[0m\u001b[0;34m\u001b[0m\u001b[0;34m\u001b[0m\u001b[0m\n\u001b[0;32m---> 76\u001b[0;31m     \u001b[0;32mreturn\u001b[0m \u001b[0mL_theta\u001b[0m\u001b[0;34m[\u001b[0m\u001b[0;36m0\u001b[0m\u001b[0;34m,\u001b[0m\u001b[0;36m0\u001b[0m\u001b[0;34m]\u001b[0m\u001b[0;34m\u001b[0m\u001b[0;34m\u001b[0m\u001b[0m\n\u001b[0m\u001b[1;32m     77\u001b[0m \u001b[0;34m\u001b[0m\u001b[0m\n\u001b[1;32m     78\u001b[0m   \u001b[0;32mdef\u001b[0m \u001b[0mfit\u001b[0m\u001b[0;34m(\u001b[0m\u001b[0mself\u001b[0m\u001b[0;34m,\u001b[0m \u001b[0mX\u001b[0m\u001b[0;34m,\u001b[0m \u001b[0my\u001b[0m\u001b[0;34m,\u001b[0m \u001b[0msigma_f\u001b[0m\u001b[0;34m=\u001b[0m\u001b[0;36m1.2\u001b[0m\u001b[0;34m,\u001b[0m \u001b[0msigma_n\u001b[0m\u001b[0;34m=\u001b[0m\u001b[0;36m0.000008\u001b[0m\u001b[0;34m,\u001b[0m \u001b[0mn_restarts_optimizer\u001b[0m\u001b[0;34m=\u001b[0m\u001b[0;36m10\u001b[0m\u001b[0;34m)\u001b[0m\u001b[0;34m:\u001b[0m\u001b[0;34m\u001b[0m\u001b[0;34m\u001b[0m\u001b[0m\n",
      "\u001b[0;31mUnboundLocalError\u001b[0m: local variable 'L_theta' referenced before assignment"
     ]
    },
    {
     "data": {
      "image/png": "[encoded data removed]",
      "text/plain": [
       "<Figure size 432x288 with 1 Axes>"
      ]
     },
     "metadata": {
      "needs_background": "light"
     },
     "output_type": "display_data"
    }
   ],
   "source": [
    "def fit_predict_plot(title):\n",
    "    plt.figure()\n",
    "    plt.ylim(-1,4)\n",
    "    scaler = StandardScaler()\n",
    "    train_XX = scaler.fit_transform(train_X)\n",
    "    test_XX = scaler.transform(test_X)\n",
    "    model.fit(train_XX, train_y)\n",
    "    pred_y, pred_cov = model.predict(test_XX, return_cov=True)\n",
    "    pred_std = (pred_cov.diagonal()**0.5*2).squeeze()\n",
    "    print(pred_std.shape)\n",
    "    plt.scatter(train_XX, train_y, label='train data')\n",
    "    plt.plot(test_XX, pred_y, label='predictive mean')\n",
    "    plt.fill_between(test_XX.squeeze(), pred_y.squeeze()-pred_std, pred_y.squeeze()+pred_std, alpha=0.1)\n",
    "#     plt.title(title+' likelihood='+str(model.params['likelihood (mll)']))\n",
    "    plt.vlines(model.X_bar, min(pred_y.squeeze()-pred_std), max(pred_y.squeeze()+pred_std), color='r')\n",
    "    plt.legend()\n",
    "#     plt.figure()\n",
    "#     pred_l = model.predict_lengthscales_(test_XX)\n",
    "#     plt.plot(test_XX, pred_l, label='lengthscales')\n",
    "#     plt.vlines(model.X_bar, pred_l.min(), pred_l.max(), color='r')\n",
    "#     print(model.get_params())\n",
    "#     plt.legend()\n",
    "\n",
    "for N in [1,2,3,4,5,6]:\n",
    "    model = LLS(N=N, input_dim=1)\n",
    "    fit_predict_plot('LLS Kernel fit: N='+str(N))"
   ]
  },
  {
   "cell_type": "markdown",
   "metadata": {},
   "source": [
    "# y = log(x1) = exp(x2) (2d test)"
   ]
  },
  {
   "cell_type": "code",
   "execution_count": 19,
   "metadata": {},
   "outputs": [
    {
     "name": "stdout",
     "output_type": "stream",
     "text": [
      "shape of train_X= (20, 2) shape of train_y= (20, 1)\n"
     ]
    },
    {
     "data": {
      "image/png": "[encoded data removed]",
      "text/plain": [
       "<Figure size 432x288 with 1 Axes>"
      ]
     },
     "metadata": {
      "needs_background": "light"
     },
     "output_type": "display_data"
    },
    {
     "data": {
      "image/png": "[encoded data removed]",
      "text/plain": [
       "<Figure size 432x288 with 1 Axes>"
      ]
     },
     "metadata": {
      "needs_background": "light"
     },
     "output_type": "display_data"
    }
   ],
   "source": [
    "import matplotlib.pyplot as plt\n",
    "from sklearn.preprocessing import StandardScaler\n",
    "test_X1 = np.linspace(2,20,60).reshape(-1,1)\n",
    "np.random.seed(0)\n",
    "test_y = np.log(test_X1)\n",
    "test_X2 = np.log(test_y)\n",
    "test_y = test_y+np.random.rand(*test_X1.shape)\n",
    "test_X = np.concatenate([test_X1, test_X2], axis=1)\n",
    "train_X = test_X[::3]\n",
    "train_y = test_y[::3]\n",
    "print(\"shape of train_X=\",train_X.shape, \"shape of train_y=\",train_y.shape)\n",
    "plt.scatter(train_X[:,0], train_y);plt.figure();plt.scatter(train_X[:,1], train_y);"
   ]
  },
  {
   "cell_type": "code",
   "execution_count": 22,
   "metadata": {
    "scrolled": false
   },
   "outputs": [
    {
     "name": "stdout",
     "output_type": "stream",
     "text": [
      "{'likelihood (mll)': -13.817673694698824, 'GP_variance (sigma_f)': array([3.30034609]), 'GP_noise_level (sigma_n)': array([0.10406309]), 'L_GP_variance (sigma_f_bar)': array([1., 1.]), 'L_GP_lengthscale (sigma_l_bar)': array([378.89319802, 479.89306907]), 'L_GP_noise_level (sigma_n_bar)': array([2.99277382e-05, 7.44473548e-05]), 'N_lengthscales (l_bar)': array([[553.45431487, 471.30202105],\n",
      "       [105.02153   ,  54.16639199]])}\n"
     ]
    },
    {
     "data": {
      "image/png": "[encoded data removed]",
      "text/plain": [
       "<Figure size 432x288 with 4 Axes>"
      ]
     },
     "metadata": {
      "needs_background": "light"
     },
     "output_type": "display_data"
    }
   ],
   "source": [
    "def fit_predict_plot(title):\n",
    "    scaler = StandardScaler()\n",
    "    train_XX = scaler.fit_transform(train_X)\n",
    "    test_XX = scaler.transform(test_X)\n",
    "    model.fit(train_XX, train_y)\n",
    "    pred_y, pred_cov = model.predict(test_XX, return_cov=True, diag=False)\n",
    "    pred_std = (pred_cov.diagonal()**0.5*2).squeeze()\n",
    "    pred_l = model.predict_lengthscales_(test_XX)\n",
    "    fig, ax = plt.subplots(2,2)\n",
    "    for fig_n in [0,1]:\n",
    "        ax[fig_n,0].scatter(train_XX[:,fig_n], train_y, label='train data')\n",
    "        ax[fig_n,0].plot(test_XX[:,fig_n], pred_y, label='predictive mean')\n",
    "        ax[fig_n,0].fill_between(test_XX[:,fig_n].squeeze(), pred_y.squeeze()-pred_std, pred_y.squeeze()+pred_std, alpha=0.1)\n",
    "        ax[fig_n,0].set_title(title+' likelihood='+str(model.params['likelihood (mll)']))\n",
    "        ax[fig_n,0].vlines(model.X_bar[:,fig_n], min(pred_y.squeeze()-pred_std), max(pred_y.squeeze()+pred_std), color='r')\n",
    "        ax[fig_n,0].legend()\n",
    "        ax[fig_n,1].plot(test_XX[:,fig_n], pred_l[:,fig_n], label='lengthscales')\n",
    "        ax[fig_n,1].vlines(model.X_bar[:,fig_n], pred_l[:,fig_n].min(), pred_l[:,fig_n].max(), color='r')\n",
    "        ax[fig_n,1].legend()\n",
    "    print(model.get_params())\n",
    "\n",
    "for N in [2]:\n",
    "    model = LLS(2, N_l_bar=N, optimizer='scipy', kernel='rbf', bounds=(10**-5, 10**5))\n",
    "    fit_predict_plot('LLS Kernel fit: N='+str(N))"
   ]
  },
  {
   "cell_type": "markdown",
   "metadata": {},
   "source": [
    "# Benchmarking\n",
    "\n",
    "### Which Methods are empirically fast??"
   ]
  },
  {
   "cell_type": "markdown",
   "metadata": {},
   "source": [
    "## Vectorize or not?"
   ]
  },
  {
   "cell_type": "code",
   "execution_count": 7,
   "metadata": {},
   "outputs": [
    {
     "name": "stdout",
     "output_type": "stream",
     "text": [
      "True\n",
      "498 µs ± 7.16 µs per loop (mean ± std. dev. of 7 runs, 1000 loops each)\n",
      "707 µs ± 1.67 µs per loop (mean ± std. dev. of 7 runs, 1000 loops each)\n"
     ]
    }
   ],
   "source": [
    "from scipy.spatial.distance import cdist\n",
    "x=np.random.rand(100,10)\n",
    "y=np.random.rand(100,10)\n",
    "ps = np.random.rand(100,100,10)\n",
    "\n",
    "def m1():\n",
    "    return (np.square(x[:, np.newaxis, :] - y[np.newaxis, :, :])/ps).sum(axis=2)\n",
    "\n",
    "def m2():\n",
    "    s = 0\n",
    "    for i in range(x.shape[1]):\n",
    "        s += (cdist(x[:,i:i+1], y[:,i:i+1], metric='sqeuclidean')/ps[:,:,i])\n",
    "    return s\n",
    "\n",
    "print(np.allclose(m1(), m2()))\n",
    "%timeit m1()\n",
    "%timeit m2()"
   ]
  },
  {
   "cell_type": "markdown",
   "metadata": {},
   "source": [
    "## Cholesky calulations"
   ]
  },
  {
   "cell_type": "code",
   "execution_count": 8,
   "metadata": {},
   "outputs": [
    {
     "name": "stdout",
     "output_type": "stream",
     "text": [
      "True True True\n",
      "356 ms ± 2.65 ms per loop (mean ± std. dev. of 7 runs, 1 loop each)\n",
      "703 ms ± 3.84 ms per loop (mean ± std. dev. of 7 runs, 1 loop each)\n",
      "34.9 ms ± 87.5 µs per loop (mean ± std. dev. of 7 runs, 10 loops each)\n",
      "30.5 ms ± 118 µs per loop (mean ± std. dev. of 7 runs, 10 loops each)\n"
     ]
    }
   ],
   "source": [
    "a = np.random.rand(1000,1000)\n",
    "a = a@a.T\n",
    "b = np.abs(np.random.rand(100,1000))\n",
    "\n",
    "y = np.random.rand(1000, 1)\n",
    "def original():\n",
    "    return b@np.linalg.inv(a)@y\n",
    "\n",
    "def m1():\n",
    "    L = np.linalg.cholesky(a)\n",
    "    alpha = np.linalg.solve(L.T, np.linalg.solve(L, y))\n",
    "    return b@alpha\n",
    "\n",
    "def m2():\n",
    "    L = np.linalg.cholesky(a)\n",
    "    alpha = scipy.linalg.cho_solve((L, True), y)\n",
    "    return b@alpha\n",
    "\n",
    "def m3():\n",
    "    L = scipy.linalg.cholesky(a, lower=True)\n",
    "    alpha = scipy.linalg.cho_solve((L, True), y)\n",
    "    return b@alpha\n",
    "    \n",
    "\n",
    "print(np.allclose(original(), m1()), \n",
    "      np.allclose(original(), m2()), \n",
    "      np.allclose(original(), m3()))\n",
    "%timeit original()\n",
    "%timeit m1()\n",
    "%timeit m2()\n",
    "%timeit m3()"
   ]
  },
  {
   "cell_type": "markdown",
   "metadata": {},
   "source": [
    "## np.sqrt v/s np.power"
   ]
  },
  {
   "cell_type": "code",
   "execution_count": 9,
   "metadata": {},
   "outputs": [
    {
     "name": "stdout",
     "output_type": "stream",
     "text": [
      "2.19 ms ± 4.34 µs per loop (mean ± std. dev. of 7 runs, 100 loops each)\n",
      "59.3 ms ± 81.8 µs per loop (mean ± std. dev. of 7 runs, 10 loops each)\n",
      "59.3 ms ± 107 µs per loop (mean ± std. dev. of 7 runs, 10 loops each)\n"
     ]
    }
   ],
   "source": [
    "l1 = np.random.rand(1000, 1)\n",
    "l2 = np.random.rand(1000, 1)\n",
    "\n",
    "aaa = l1@l1.T\n",
    "%timeit np.sqrt(np.sqrt(aaa))\n",
    "%timeit np.power(aaa,0.25)\n",
    "%timeit aaa ** 0.25"
   ]
  },
  {
   "cell_type": "markdown",
   "metadata": {},
   "source": [
    "## (First @ or *) or vectorize ??"
   ]
  },
  {
   "cell_type": "code",
   "execution_count": 10,
   "metadata": {},
   "outputs": [
    {
     "name": "stdout",
     "output_type": "stream",
     "text": [
      "True True\n",
      "48.9 µs ± 63.5 ns per loop (mean ± std. dev. of 7 runs, 10000 loops each)\n",
      "23.4 µs ± 56.7 ns per loop (mean ± std. dev. of 7 runs, 10000 loops each)\n",
      "19.4 µs ± 26.4 ns per loop (mean ± std. dev. of 7 runs, 100000 loops each)\n"
     ]
    }
   ],
   "source": [
    "l1 = np.random.rand(70, 3)\n",
    "l2 = np.random.rand(70, 3)\n",
    "\n",
    "def m1():\n",
    "    m = 1\n",
    "    for i in range(l1.shape[1]):\n",
    "        m *= l1[:,i:i+1]@l2[:,i:i+1].T\n",
    "    return m\n",
    "\n",
    "def m2():\n",
    "    ll1 =1;ll2=1\n",
    "    for i in range(l1.shape[1]):\n",
    "        ll1 *= l1[:,i:i+1]\n",
    "        ll2 *= l2[:,i:i+1]\n",
    "    return ll1@ll2.T\n",
    "\n",
    "def m3():\n",
    "    return l1.prod(axis=1)[:,np.newaxis]@l2.prod(axis=1)[np.newaxis,:]\n",
    "\n",
    "print(np.allclose(m1(), m2()), np.allclose(m1(), m3()))\n",
    "\n",
    "%timeit m1()\n",
    "%timeit m2()\n",
    "%timeit m3()"
   ]
  },
  {
   "cell_type": "markdown",
   "metadata": {},
   "source": [
    "## How to add noise variance to diagonal ?"
   ]
  },
  {
   "cell_type": "code",
   "execution_count": 11,
   "metadata": {},
   "outputs": [
    {
     "name": "stdout",
     "output_type": "stream",
     "text": [
      "True True\n",
      "44.9 µs ± 532 ns per loop (mean ± std. dev. of 7 runs, 10000 loops each)\n",
      "4.35 µs ± 17.1 ns per loop (mean ± std. dev. of 7 runs, 100000 loops each)\n",
      "2.93 µs ± 20.2 ns per loop (mean ± std. dev. of 7 runs, 100000 loops each)\n"
     ]
    }
   ],
   "source": [
    "kk = np.random.rand(200,200)\n",
    "kk = kk@kk.T\n",
    "\n",
    "def m1(kk):\n",
    "    return kk + np.eye(kk.shape[0])*20\n",
    "    \n",
    "def m2(kk):\n",
    "    np.fill_diagonal(kk, kk.diagonal() + 20)\n",
    "    return kk\n",
    "\n",
    "def m3(kk):\n",
    "    kk.ravel()[::kk.shape[1]+1] += 20\n",
    "    return kk\n",
    "\n",
    "print(np.allclose(m1(kk), m2(kk)), np.allclose(m1(kk), m3(kk)))\n",
    "\n",
    "%timeit m1(kk)\n",
    "%timeit m2(kk)\n",
    "%timeit m3(kk)"
   ]
  },
  {
   "cell_type": "markdown",
   "metadata": {},
   "source": [
    "## Appendix"
   ]
  },
  {
   "cell_type": "code",
   "execution_count": 42,
   "metadata": {},
   "outputs": [],
   "source": [
    "from GPy.models import GPRegression\n",
    "from NSGPy.NumPy import LLS\n",
    "from GPy.kern import RBF\n",
    "import matplotlib.pyplot as plt\n",
    "import numpy as np"
   ]
  },
  {
   "cell_type": "code",
   "execution_count": 43,
   "metadata": {},
   "outputs": [
    {
     "data": {
      "text/plain": [
       "<matplotlib.collections.PathCollection at 0x7fe410be7050>"
      ]
     },
     "execution_count": 43,
     "metadata": {},
     "output_type": "execute_result"
    },
    {
     "data": {
      "image/png": "[encoded data removed]",
      "text/plain": [
       "<Figure size 432x288 with 1 Axes>"
      ]
     },
     "metadata": {
      "needs_background": "light"
     },
     "output_type": "display_data"
    }
   ],
   "source": [
    "NN = 50\n",
    "X = np.concatenate([np.linspace(0,51,NN//2), np.linspace(49,100,NN//2)]).reshape(-1,1)\n",
    "# y = np.cos(X) + np.random.rand(NN,1)*1.2\n",
    "y = np.concatenate([np.ones((25,1)), np.ones((25,1))*2])\n",
    "plt.scatter(X, y)"
   ]
  },
  {
   "cell_type": "code",
   "execution_count": 44,
   "metadata": {},
   "outputs": [
    {
     "data": {
      "text/html": [
       "<style type=\"text/css\">\n",
       ".pd{\n",
       "    font-family: \"Courier New\", Courier, monospace !important;\n",
       "    width: 100%;\n",
       "    padding: 3px;\n",
       "}\n",
       "</style>\n",
       "\n",
       "<p class=pd>\n",
       "<b>Model</b>: GP regression<br>\n",
       "<b>Objective</b>: -2.8912576611312844<br>\n",
       "<b>Number of Parameters</b>: 5<br>\n",
       "<b>Number of Optimization Parameters</b>: 5<br>\n",
       "<b>Updates</b>: True<br>\n",
       "</p>\n",
       "<style type=\"text/css\">\n",
       ".tg  {font-family:\"Courier New\", Courier, monospace !important;padding:2px 3px;word-break:normal;border-collapse:collapse;border-spacing:0;border-color:#DCDCDC;margin:0px auto;width:100%;}\n",
       ".tg td{font-family:\"Courier New\", Courier, monospace !important;font-weight:bold;color:#444;background-color:#F7FDFA;border-style:solid;border-width:1px;overflow:hidden;word-break:normal;border-color:#DCDCDC;}\n",
       ".tg th{font-family:\"Courier New\", Courier, monospace !important;font-weight:normal;color:#fff;background-color:#26ADE4;border-style:solid;border-width:1px;overflow:hidden;word-break:normal;border-color:#DCDCDC;}\n",
       ".tg .tg-left{font-family:\"Courier New\", Courier, monospace !important;font-weight:normal;text-align:left;}\n",
       ".tg .tg-center{font-family:\"Courier New\", Courier, monospace !important;font-weight:normal;text-align:center;}\n",
       ".tg .tg-right{font-family:\"Courier New\", Courier, monospace !important;font-weight:normal;text-align:right;}\n",
       "</style>\n",
       "<table class=\"tg\"><tr><th><b>  GP_regression.         </b></th><th><b>              value</b></th><th><b>constraints</b></th><th><b>priors</b></th></tr>\n",
       "<tr><td class=tg-left>  sum.rbf.variance       </td><td class=tg-right> 2.6089102650407785</td><td class=tg-center>    +ve    </td><td class=tg-center>      </td></tr>\n",
       "<tr><td class=tg-left>  sum.rbf.lengthscale    </td><td class=tg-right> 144.56246824952416</td><td class=tg-center>    +ve    </td><td class=tg-center>      </td></tr>\n",
       "<tr><td class=tg-left>  sum.rbf_1.variance     </td><td class=tg-right>0.07308526061990699</td><td class=tg-center>    +ve    </td><td class=tg-center>      </td></tr>\n",
       "<tr><td class=tg-left>  sum.rbf_1.lengthscale  </td><td class=tg-right> 11.412784781958944</td><td class=tg-center>    +ve    </td><td class=tg-center>      </td></tr>\n",
       "<tr><td class=tg-left>  Gaussian_noise.variance</td><td class=tg-right>0.02971139286654325</td><td class=tg-center>    +ve    </td><td class=tg-center>      </td></tr>\n",
       "</table>"
      ],
      "text/plain": [
       "<GPy.models.gp_regression.GPRegression at 0x7fe410cb5f50>"
      ]
     },
     "execution_count": 44,
     "metadata": {},
     "output_type": "execute_result"
    },
    {
     "data": {
      "image/png": "[encoded data removed]",
      "text/plain": [
       "<Figure size 432x288 with 1 Axes>"
      ]
     },
     "metadata": {
      "needs_background": "light"
     },
     "output_type": "display_data"
    },
    {
     "data": {
      "image/png": "[encoded data removed]",
      "text/plain": [
       "<Figure size 432x288 with 1 Axes>"
      ]
     },
     "metadata": {
      "needs_background": "light"
     },
     "output_type": "display_data"
    }
   ],
   "source": [
    "gp_model = GPRegression(X, y, RBF(1, lengthscale=10)+RBF(1, lengthscale=2))\n",
    "gp_model.optimize()\n",
    "gp_model.plot()\n",
    "m, c = gp_model.predict(X)\n",
    "s2 = (np.sqrt(c)*2).squeeze()\n",
    "plt.figure()\n",
    "plt.scatter(X, y);plt.plot(X, m);plt.fill_between(X.squeeze(), m.squeeze()-s2, m.squeeze()+s2, alpha=0.4)\n",
    "gp_model"
   ]
  },
  {
   "cell_type": "code",
   "execution_count": 45,
   "metadata": {},
   "outputs": [
    {
     "data": {
      "text/plain": [
       "{'likelihood (mll)': -75.18088509696537,\n",
       " 'GP_variance (sigma_f)': array([1.e-05]),\n",
       " 'GP_linear_variance (sigma_f_lin)': array([0.02082177]),\n",
       " 'GP_linear_bias (sigma_b_lin)': array([1.08701738]),\n",
       " 'GP_noise_level (sigma_n)': array([0.14640748]),\n",
       " 'L_GP_variance (sigma_f_bar)': array([1.e-05]),\n",
       " 'L_GP_lengthscale (sigma_l_bar)': array([0.2160895]),\n",
       " 'L_GP_noise_level (sigma_n_bar)': array([1.e-05]),\n",
       " 'N_lengthscales (l_bar)': array([[0.00623026],\n",
       "        [0.25298236],\n",
       "        [0.43479153],\n",
       "        [0.78077448],\n",
       "        [0.19783677],\n",
       "        [0.8640215 ],\n",
       "        [0.98340068],\n",
       "        [0.16404987],\n",
       "        [0.59733394],\n",
       "        [0.0089861 ]])}"
      ]
     },
     "execution_count": 45,
     "metadata": {},
     "output_type": "execute_result"
    },
    {
     "data": {
      "image/png": "[encoded data removed]",
      "text/plain": [
       "<Figure size 1296x720 with 4 Axes>"
      ]
     },
     "metadata": {
      "needs_background": "light"
     },
     "output_type": "display_data"
    }
   ],
   "source": [
    "nsgp_model = LLS(1, N_l_bar=10, seed=0)\n",
    "nsgp_model.fit(X, y)\n",
    "fig, ax = plt.subplots(2,2,figsize=(18,10))\n",
    "nsgp_model.predict_plot(ax, X, y)\n",
    "nsgp_model.get_params()"
   ]
  },
  {
   "cell_type": "code",
   "execution_count": 5,
   "metadata": {},
   "outputs": [
    {
     "data": {
      "image/png": "[encoded data removed]",
      "text/plain": [
       "<Figure size 432x288 with 1 Axes>"
      ]
     },
     "metadata": {
      "needs_background": "light"
     },
     "output_type": "display_data"
    }
   ],
   "source": [
    "def func(x1, x2):\n",
    "    return np.exp(-np.square(x1-x2.T)/(nsgp_model.get_params()['L_GP_lengthscale (sigma_l_bar)'][0])**2)\n",
    "plt.scatter(nsgp_model.X_bar, nsgp_model.l_bar)\n",
    "plt.plot(X, np.exp(func(X, nsgp_model.X_bar)@np.linalg.pinv(func(nsgp_model.X_bar, nsgp_model.X_bar))@np.log(nsgp_model.l_bar)));\n",
    "plt.plot(X, nsgp_model.predict_lengthscales_(X), label='nsgp');plt.legend();"
   ]
  },
  {
   "cell_type": "code",
   "execution_count": 6,
   "metadata": {},
   "outputs": [
    {
     "data": {
      "text/plain": [
       "array([[1.        , 0.99875902, 0.99504531],\n",
       "       [0.99875902, 1.        , 0.99875902],\n",
       "       [0.99504531, 0.99875902, 1.        ]])"
      ]
     },
     "execution_count": 6,
     "metadata": {},
     "output_type": "execute_result"
    }
   ],
   "source": [
    "nsgp_model.K_bar(np.array(1), nsgp_model.sigma_l_bar, X)[:3,:3].squeeze()"
   ]
  },
  {
   "cell_type": "code",
   "execution_count": 7,
   "metadata": {},
   "outputs": [
    {
     "data": {
      "text/plain": [
       "array([[1.        , 0.99875902, 0.99504531],\n",
       "       [0.99875902, 1.        , 0.99875902],\n",
       "       [0.99504531, 0.99875902, 1.        ]])"
      ]
     },
     "execution_count": 7,
     "metadata": {},
     "output_type": "execute_result"
    }
   ],
   "source": [
    "func(X, X)[:3,:3]"
   ]
  },
  {
   "cell_type": "code",
   "execution_count": 8,
   "metadata": {},
   "outputs": [
    {
     "data": {
      "text/plain": [
       "array([[[1.        ],\n",
       "        [0.99644688],\n",
       "        [0.9858631 ]],\n",
       "\n",
       "       [[0.99644688],\n",
       "        [1.        ],\n",
       "        [0.99644688]],\n",
       "\n",
       "       [[0.9858631 ],\n",
       "        [0.99644688],\n",
       "        [1.        ]]])"
      ]
     },
     "execution_count": 8,
     "metadata": {},
     "output_type": "execute_result"
    }
   ],
   "source": [
    "np.exp(-np.square(X[:,np.newaxis,:] - X[np.newaxis,:,:])/nsgp_model.sigma_l_bar.reshape(1,1,1))[:3,:3]"
   ]
  },
  {
   "cell_type": "code",
   "execution_count": null,
   "metadata": {},
   "outputs": [],
   "source": []
  }
 ],
 "metadata": {
  "kernelspec": {
   "display_name": "Python 3",
   "language": "python",
   "name": "python3"
  },
  "language_info": {
   "codemirror_mode": {
    "name": "ipython",
    "version": 3
   },
   "file_extension": ".py",
   "mimetype": "text/x-python",
   "name": "python",
   "nbconvert_exporter": "python",
   "pygments_lexer": "ipython3",
   "version": "3.7.9"
  }
 },
 "nbformat": 4,
 "nbformat_minor": 4
}
