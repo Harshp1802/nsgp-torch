{
 "cells": [
  {
   "cell_type": "code",
   "execution_count": 83,
   "metadata": {},
   "outputs": [],
   "source": [
    "import numpy as np\n",
    "import pandas as pd\n",
    "import matplotlib.pyplot as plt\n",
    "from IPython.display import clear_output\n",
    "import GPy\n",
    "from sklearn.preprocessing import StandardScaler, MinMaxScaler\n",
    "\n",
    "import tensorflow as tf\n",
    "gpus = tf.config.experimental.list_physical_devices('GPU')\n",
    "for gpu in gpus:\n",
    "    tf.config.experimental.set_memory_growth(gpu, True)\n",
    "import numpy as np\n",
    "from lab.tensorflow import B\n",
    "from stheno import EQ, GP\n",
    "from varz.tensorflow import Vars, minimise_l_bfgs_b, minimise_adam\n",
    "import sys\n",
    "\n",
    "from sklearn.cluster import KMeans\n",
    "\n",
    "# Main import \n",
    "import tensorflow as tf\n",
    "gpus = tf.config.experimental.list_physical_devices('GPU')\n",
    "for gpu in gpus:\n",
    "    tf.config.experimental.set_memory_growth(gpu, True)\n",
    "import matplotlib.pyplot as plt\n",
    "import numpy as np\n",
    "from lab.tensorflow import B\n",
    "from stheno import GP, EQ\n",
    "from varz.tensorflow import Vars, minimise_l_bfgs_b\n",
    "import warnings\n",
    "warnings.filterwarnings('ignore')\n",
    "\n",
    "from sklearn.cluster import KMeans\n",
    "\n",
    "from algebra.util import identical\n",
    "from matrix import Dense\n",
    "from plum import dispatch\n",
    "\n",
    "from mlkernels import Kernel, pairwise, elwise\n",
    "\n",
    "class NSEQ(Kernel):\n",
    "    \"\"\"Exponentiated quadratic kernel with a length scale.\n",
    "\n",
    "    Args:\n",
    "        scale (scalar): Length scale of the kernel.\n",
    "    \"\"\"\n",
    "\n",
    "    def __init__(self, scale1, scale2):\n",
    "        self.scale1 = scale1[:,None,:]\n",
    "        self.scale2 = scale2[None,:,:]\n",
    "\n",
    "    def _compute(self, dist2):\n",
    "        # This computes the kernel given squared distances. We use `B` to provide a\n",
    "        # backend-agnostic implementation.\n",
    "        ls2 = self.scale1**2 + self.scale2**2\n",
    "        prefix = tf.reduce_prod((2*self.scale1*self.scale2/ls2)**0.5, axis=2)\n",
    "        return prefix * B.exp(-B.sum(dist2/ls2, axis=2))\n",
    "\n",
    "    def render(self, formatter):\n",
    "        # This method determines how the kernel is displayed.\n",
    "        return \"NSEQ\"\n",
    "\n",
    "    @property\n",
    "    def _stationary(self):\n",
    "        # This method can be defined to return `True` to indicate that the kernel is\n",
    "        # stationary. By default, kernels are assumed to not be stationary.\n",
    "        return False\n",
    "\n",
    "    @dispatch\n",
    "    def __eq__(self, other: \"NSEQ\"):\n",
    "        # If `other` is also a `EQWithLengthScale`, then this method checks whether \n",
    "        # `self` and `other` can be treated as identical for the purpose of \n",
    "        # algebraic simplifications. In this case, `self` and `other` are identical \n",
    "        # for the purpose of algebraic simplification if `self.scale` and\n",
    "        # `other.scale` are. We use `algebra.util.identical` to check this condition.\n",
    "        return identical(self.scale1, other.scale1)\n",
    "\n",
    "# It remains to implement pairwise and element-wise computation of the kernel.\n",
    "\n",
    "@pairwise.dispatch\n",
    "def pairwise(k: NSEQ, x: B.Numeric, y: B.Numeric):\n",
    "    dist2 = (x[:,None,:]-y[None,:,:])**2\n",
    "    return Dense(k._compute(dist2))\n",
    "\n",
    "# @elwise.dispatch\n",
    "# def elwise(k: EQWithLengthScale, x: B.Numeric, y: B.Numeric):\n",
    "#     return k._compute(B.ew_dists2(x, y))\n",
    "\n",
    "class NSGPRegression:\n",
    "    def __init__(self, X, y, num_inducing_points, seed=0):\n",
    "        self.num_inducing_points = num_inducing_points\n",
    "        self.X = X\n",
    "        self.y = y\n",
    "\n",
    "        assert len(X.shape) == 2\n",
    "        assert len(y.shape) == 2\n",
    "        self.input_dim = X.shape[1]\n",
    "        B.random.set_random_seed(seed)\n",
    "        np.random.seed(seed)\n",
    "        # Defining X_bar (Locations where latent lengthscales are to be learnt)\n",
    "        # XY_choice = tf.concat([self.X, self.y], axis=1)\n",
    "        self.X_bar = KMeans(n_clusters=num_inducing_points, random_state=seed).fit(self.X).cluster_centers_\n",
    "#         inds = np.random.choice(self.X.shape[0], size=num_inducing_points, replace=False)\n",
    "#         self.X_bar = self.X[inds]\n",
    "        \n",
    "    def LocalGP(self, vs, X, return_logpdf=False): # Getting lengthscales for entire train_X (self.X)\n",
    "        l_list = []\n",
    "        logpdfs = []\n",
    "        for dim in range(self.input_dim):\n",
    "            f = GP(vs.positive(init = B.rand(), name='local_std')**2 *\\\n",
    "                EQ().stretch(vs.positive(B.rand(), name='local_gp_ls'+str(dim))))\n",
    "            f_post = f | (f(self.X_bar[:, dim], vs.positive(B.rand(), name='local_gp_noise'+str(dim))),\n",
    "                          vs.positive(B.rand(self.num_inducing_points,1)+1, \n",
    "                                    shape=(self.num_inducing_points,1), name='local_ls'+str(dim)))\n",
    "            l = f_post(X[:, dim]).mean.mat\n",
    "            l_list.append(l)\n",
    "            logpdfs.append(f(self.X_bar[:, dim], vs.positive(B.rand(), name='local_gp_noise'+str(dim)).logpdf(vs.positive(B.rand(self.num_inducing_points,1)+1, \n",
    "                                    shape=(self.num_inducing_points,1), name='local_ls'+str(dim)))))\n",
    "            \n",
    "        return l_list, logpdfs\n",
    "    \n",
    "    def GlobalGP(self, vs): # Construct global GP and return nlml\n",
    "        l_list = self.LocalGP(vs, self.X)\n",
    "        global_ls = tf.concat(l_list, axis=1)\n",
    "        \n",
    "        f = GP(vs.positive(B.rand(), name='global_std')**2 * NSEQ(global_ls, global_ls))\n",
    "        \n",
    "        return -f(self.X, vs.positive(B.rand(), name='global_noise')**2).logpdf(self.y)\n",
    "    \n",
    "    def optimize(self, iters=1, lr=0.1, jit=False, trace=False): # Optimize hyperparams\n",
    "        self.vs = Vars(tf.float64)\n",
    "#         minimise_l_bfgs_b(self.GlobalGP, self.vs, trace=trace, jit=jit, iters=iters)\n",
    "        minimise_adam(self.GlobalGP, self.vs, trace=trace, jit=jit, iters=iters, rate=lr)\n",
    "        # self.vs.print()\n",
    "        \n",
    "    def predict(self, X_new): # Predict at new locations\n",
    "        l_list = self.LocalGP(self.vs, self.X)\n",
    "        global_ls = tf.concat(l_list, axis=1)\n",
    "        \n",
    "        l_list_new = self.LocalGP(self.vs, X_new)\n",
    "        global_ls_new = tf.concat(l_list_new, axis=1)\n",
    "        \n",
    "        X_scaled = self.X/global_ls\n",
    "        X_new_scaled = X_new/global_ls_new\n",
    "        \n",
    "        K = self.vs['global_std']**2 * B.exp(-B.sum((X_scaled[:,None,:] - X_scaled[None,:,:])**2, axis=2))\n",
    "        K_star = self.vs['global_std']**2 * B.exp(-B.sum((X_new_scaled[:,None,:] - X_scaled[None,:,:])**2, axis=2))\n",
    "        K_star_star = self.vs['global_std']**2 * B.exp(-B.sum((X_new_scaled[:,None,:] - X_new_scaled[None,:,:])**2, axis=2))\n",
    "        \n",
    "        L = B.cholesky(K + B.eye(self.X.shape[0]) * self.vs['global_noise']**2)\n",
    "        alpha = B.cholesky_solve(L, self.y)\n",
    "        \n",
    "        pred_mean = K_star@alpha\n",
    "        \n",
    "        v = B.cholesky_solve(L, B.T(K_star))\n",
    "        pred_var = K_star_star + B.eye(X_new.shape[0])*self.vs['global_noise']**2 - K_star@v\n",
    "        \n",
    "        return pred_mean, pred_var\n",
    "\n",
    "import warnings\n",
    "warnings.filterwarnings('ignore')"
   ]
  },
  {
   "cell_type": "markdown",
   "metadata": {},
   "source": [
    "### 2D dataset"
   ]
  },
  {
   "cell_type": "code",
   "execution_count": 84,
   "metadata": {},
   "outputs": [
    {
     "name": "stdout",
     "output_type": "stream",
     "text": [
      "(121, 2) (121, 1)\n",
      "(961, 2) (961, 1)\n"
     ]
    },
    {
     "data": {
      "image/png": "[encoded data removed]",
      "text/plain": [
       "<Figure size 432x288 with 2 Axes>"
      ]
     },
     "metadata": {
      "needs_background": "light"
     },
     "output_type": "display_data"
    }
   ],
   "source": [
    "n = 11\n",
    "np.random.seed(0)\n",
    "x1 = np.sort(np.linspace(-0.5, 1, n))\n",
    "# x2 = np.sort(np.random.uniform(-0.5, 1, n))\n",
    "X1, X2 = np.meshgrid(x1, x1)\n",
    "\n",
    "def simulate(a, b):\n",
    "    bi = np.pi * (2*a + 0.5*b + 1)\n",
    "    return 0.1 * (np.sin(a*bi) + np.sin(b*bi))\n",
    "\n",
    "y = np.array([simulate(a,b) for a,b in zip(X1.ravel(), X2.ravel())]).reshape(-1,1) + np.random.normal(0,0.025, n*n).reshape(-1,1)\n",
    "X = np.array([(a,b) for a,b in zip(X1.ravel(), X2.ravel())])\n",
    "\n",
    "plt.contourf(X1, X2, y.reshape(n, n), levels=30);\n",
    "plt.colorbar();\n",
    "\n",
    "print(X.shape, y.shape)\n",
    "\n",
    "np.random.seed(0)\n",
    "n = 31\n",
    "x1_test = np.linspace(-0.5, 1, n)\n",
    "X1_test, X2_test = np.meshgrid(x1_test, x1_test)\n",
    "\n",
    "X_test = np.array([(a,b) for a,b in zip(X1_test.ravel(), X2_test.ravel())])\n",
    "y_test = np.array([simulate(a,b) for a,b in zip(X1_test.ravel(), X2_test.ravel())]).reshape(-1,1)\n",
    "print(X_test.shape, y_test.shape)"
   ]
  },
  {
   "cell_type": "code",
   "execution_count": 85,
   "metadata": {
    "scrolled": false
   },
   "outputs": [
    {
     "ename": "AttributeError",
     "evalue": "'tensorflow.python.framework.ops.EagerTensor' object has no attribute 'logpdf'",
     "output_type": "error",
     "traceback": [
      "\u001b[0;31m---------------------------------------------------------------------------\u001b[0m",
      "\u001b[0;31mAttributeError\u001b[0m                            Traceback (most recent call last)",
      "\u001b[0;32m<ipython-input-85-f951129ec71c>\u001b[0m in \u001b[0;36m<module>\u001b[0;34m\u001b[0m\n\u001b[1;32m      1\u001b[0m \u001b[0;32mfor\u001b[0m \u001b[0mseed\u001b[0m \u001b[0;32min\u001b[0m \u001b[0;34m[\u001b[0m\u001b[0;36m2\u001b[0m\u001b[0;34m,\u001b[0m\u001b[0;36m3\u001b[0m\u001b[0;34m,\u001b[0m\u001b[0;36m4\u001b[0m\u001b[0;34m,\u001b[0m\u001b[0;36m5\u001b[0m\u001b[0;34m]\u001b[0m\u001b[0;34m:\u001b[0m\u001b[0;34m\u001b[0m\u001b[0;34m\u001b[0m\u001b[0m\n\u001b[1;32m      2\u001b[0m     \u001b[0mmodel\u001b[0m \u001b[0;34m=\u001b[0m \u001b[0mNSGPRegression\u001b[0m\u001b[0;34m(\u001b[0m\u001b[0mX\u001b[0m\u001b[0;34m,\u001b[0m \u001b[0my\u001b[0m\u001b[0;34m,\u001b[0m \u001b[0mnum_inducing_points\u001b[0m\u001b[0;34m=\u001b[0m\u001b[0;36m3\u001b[0m\u001b[0;34m,\u001b[0m \u001b[0mseed\u001b[0m\u001b[0;34m=\u001b[0m\u001b[0mseed\u001b[0m\u001b[0;34m)\u001b[0m\u001b[0;34m\u001b[0m\u001b[0;34m\u001b[0m\u001b[0m\n\u001b[0;32m----> 3\u001b[0;31m     \u001b[0mmodel\u001b[0m\u001b[0;34m.\u001b[0m\u001b[0moptimize\u001b[0m\u001b[0;34m(\u001b[0m\u001b[0miters\u001b[0m\u001b[0;34m=\u001b[0m\u001b[0;36m100\u001b[0m\u001b[0;34m,\u001b[0m \u001b[0mlr\u001b[0m\u001b[0;34m=\u001b[0m\u001b[0;36m0.1\u001b[0m\u001b[0;34m)\u001b[0m\u001b[0;34m\u001b[0m\u001b[0;34m\u001b[0m\u001b[0m\n\u001b[0m\u001b[1;32m      4\u001b[0m     \u001b[0mpred_y\u001b[0m \u001b[0;34m=\u001b[0m \u001b[0mmodel\u001b[0m\u001b[0;34m.\u001b[0m\u001b[0mpredict\u001b[0m\u001b[0;34m(\u001b[0m\u001b[0mX_test\u001b[0m\u001b[0;34m)\u001b[0m\u001b[0;34m[\u001b[0m\u001b[0;36m0\u001b[0m\u001b[0;34m]\u001b[0m\u001b[0;34m.\u001b[0m\u001b[0mnumpy\u001b[0m\u001b[0;34m(\u001b[0m\u001b[0;34m)\u001b[0m\u001b[0;34m\u001b[0m\u001b[0;34m\u001b[0m\u001b[0m\n\u001b[1;32m      5\u001b[0m     \u001b[0mplt\u001b[0m\u001b[0;34m.\u001b[0m\u001b[0mcontourf\u001b[0m\u001b[0;34m(\u001b[0m\u001b[0mX1_test\u001b[0m\u001b[0;34m,\u001b[0m \u001b[0mX2_test\u001b[0m\u001b[0;34m,\u001b[0m \u001b[0mpred_y\u001b[0m\u001b[0;34m.\u001b[0m\u001b[0mreshape\u001b[0m\u001b[0;34m(\u001b[0m\u001b[0mn\u001b[0m\u001b[0;34m,\u001b[0m\u001b[0mn\u001b[0m\u001b[0;34m)\u001b[0m\u001b[0;34m,\u001b[0m \u001b[0mlevels\u001b[0m\u001b[0;34m=\u001b[0m\u001b[0;36m30\u001b[0m\u001b[0;34m)\u001b[0m\u001b[0;34m\u001b[0m\u001b[0;34m\u001b[0m\u001b[0m\n",
      "\u001b[0;32m<ipython-input-83-9edcbbeec6ff>\u001b[0m in \u001b[0;36moptimize\u001b[0;34m(self, iters, lr, jit, trace)\u001b[0m\n\u001b[1;32m    131\u001b[0m         \u001b[0mself\u001b[0m\u001b[0;34m.\u001b[0m\u001b[0mvs\u001b[0m \u001b[0;34m=\u001b[0m \u001b[0mVars\u001b[0m\u001b[0;34m(\u001b[0m\u001b[0mtf\u001b[0m\u001b[0;34m.\u001b[0m\u001b[0mfloat64\u001b[0m\u001b[0;34m)\u001b[0m\u001b[0;34m\u001b[0m\u001b[0;34m\u001b[0m\u001b[0m\n\u001b[1;32m    132\u001b[0m \u001b[0;31m#         minimise_l_bfgs_b(self.GlobalGP, self.vs, trace=trace, jit=jit, iters=iters)\u001b[0m\u001b[0;34m\u001b[0m\u001b[0;34m\u001b[0m\u001b[0;34m\u001b[0m\u001b[0m\n\u001b[0;32m--> 133\u001b[0;31m         \u001b[0mminimise_adam\u001b[0m\u001b[0;34m(\u001b[0m\u001b[0mself\u001b[0m\u001b[0;34m.\u001b[0m\u001b[0mGlobalGP\u001b[0m\u001b[0;34m,\u001b[0m \u001b[0mself\u001b[0m\u001b[0;34m.\u001b[0m\u001b[0mvs\u001b[0m\u001b[0;34m,\u001b[0m \u001b[0mtrace\u001b[0m\u001b[0;34m=\u001b[0m\u001b[0mtrace\u001b[0m\u001b[0;34m,\u001b[0m \u001b[0mjit\u001b[0m\u001b[0;34m=\u001b[0m\u001b[0mjit\u001b[0m\u001b[0;34m,\u001b[0m \u001b[0miters\u001b[0m\u001b[0;34m=\u001b[0m\u001b[0miters\u001b[0m\u001b[0;34m,\u001b[0m \u001b[0mrate\u001b[0m\u001b[0;34m=\u001b[0m\u001b[0mlr\u001b[0m\u001b[0;34m)\u001b[0m\u001b[0;34m\u001b[0m\u001b[0;34m\u001b[0m\u001b[0m\n\u001b[0m\u001b[1;32m    134\u001b[0m         \u001b[0;31m# self.vs.print()\u001b[0m\u001b[0;34m\u001b[0m\u001b[0;34m\u001b[0m\u001b[0;34m\u001b[0m\u001b[0m\n\u001b[1;32m    135\u001b[0m \u001b[0;34m\u001b[0m\u001b[0m\n",
      "\u001b[0;32m~/anaconda3/lib/python3.8/site-packages/varz-0.6.4-py3.8.egg/varz/minimise.py\u001b[0m in \u001b[0;36m_minimise_adam\u001b[0;34m(f, vs, iters, rate, beta1, beta2, epsilon, local_rates, trace, names, jit)\u001b[0m\n\u001b[1;32m    173\u001b[0m         \u001b[0;31m# Run function once to ensure that all variables are initialised and\u001b[0m\u001b[0;34m\u001b[0m\u001b[0;34m\u001b[0m\u001b[0;34m\u001b[0m\u001b[0m\n\u001b[1;32m    174\u001b[0m         \u001b[0;31m# available.\u001b[0m\u001b[0;34m\u001b[0m\u001b[0;34m\u001b[0m\u001b[0;34m\u001b[0m\u001b[0m\n\u001b[0;32m--> 175\u001b[0;31m         \u001b[0mval_init\u001b[0m \u001b[0;34m=\u001b[0m \u001b[0mf\u001b[0m\u001b[0;34m(\u001b[0m\u001b[0mvs\u001b[0m\u001b[0;34m)\u001b[0m\u001b[0;34m\u001b[0m\u001b[0;34m\u001b[0m\u001b[0m\n\u001b[0m\u001b[1;32m    176\u001b[0m \u001b[0;34m\u001b[0m\u001b[0m\n\u001b[1;32m    177\u001b[0m         \u001b[0;31m# Handle the edge case of zero iterations.\u001b[0m\u001b[0;34m\u001b[0m\u001b[0;34m\u001b[0m\u001b[0;34m\u001b[0m\u001b[0m\n",
      "\u001b[0;32m<ipython-input-83-9edcbbeec6ff>\u001b[0m in \u001b[0;36mGlobalGP\u001b[0;34m(self, vs)\u001b[0m\n\u001b[1;32m    121\u001b[0m \u001b[0;34m\u001b[0m\u001b[0m\n\u001b[1;32m    122\u001b[0m     \u001b[0;32mdef\u001b[0m \u001b[0mGlobalGP\u001b[0m\u001b[0;34m(\u001b[0m\u001b[0mself\u001b[0m\u001b[0;34m,\u001b[0m \u001b[0mvs\u001b[0m\u001b[0;34m)\u001b[0m\u001b[0;34m:\u001b[0m \u001b[0;31m# Construct global GP and return nlml\u001b[0m\u001b[0;34m\u001b[0m\u001b[0;34m\u001b[0m\u001b[0m\n\u001b[0;32m--> 123\u001b[0;31m         \u001b[0ml_list\u001b[0m \u001b[0;34m=\u001b[0m \u001b[0mself\u001b[0m\u001b[0;34m.\u001b[0m\u001b[0mLocalGP\u001b[0m\u001b[0;34m(\u001b[0m\u001b[0mvs\u001b[0m\u001b[0;34m,\u001b[0m \u001b[0mself\u001b[0m\u001b[0;34m.\u001b[0m\u001b[0mX\u001b[0m\u001b[0;34m)\u001b[0m\u001b[0;34m\u001b[0m\u001b[0;34m\u001b[0m\u001b[0m\n\u001b[0m\u001b[1;32m    124\u001b[0m         \u001b[0mglobal_ls\u001b[0m \u001b[0;34m=\u001b[0m \u001b[0mtf\u001b[0m\u001b[0;34m.\u001b[0m\u001b[0mconcat\u001b[0m\u001b[0;34m(\u001b[0m\u001b[0ml_list\u001b[0m\u001b[0;34m,\u001b[0m \u001b[0maxis\u001b[0m\u001b[0;34m=\u001b[0m\u001b[0;36m1\u001b[0m\u001b[0;34m)\u001b[0m\u001b[0;34m\u001b[0m\u001b[0;34m\u001b[0m\u001b[0m\n\u001b[1;32m    125\u001b[0m \u001b[0;34m\u001b[0m\u001b[0m\n",
      "\u001b[0;32m<ipython-input-83-9edcbbeec6ff>\u001b[0m in \u001b[0;36mLocalGP\u001b[0;34m(self, vs, X, return_logpdf)\u001b[0m\n\u001b[1;32m    115\u001b[0m             \u001b[0ml\u001b[0m \u001b[0;34m=\u001b[0m \u001b[0mf_post\u001b[0m\u001b[0;34m(\u001b[0m\u001b[0mX\u001b[0m\u001b[0;34m[\u001b[0m\u001b[0;34m:\u001b[0m\u001b[0;34m,\u001b[0m \u001b[0mdim\u001b[0m\u001b[0;34m]\u001b[0m\u001b[0;34m)\u001b[0m\u001b[0;34m.\u001b[0m\u001b[0mmean\u001b[0m\u001b[0;34m.\u001b[0m\u001b[0mmat\u001b[0m\u001b[0;34m\u001b[0m\u001b[0;34m\u001b[0m\u001b[0m\n\u001b[1;32m    116\u001b[0m             \u001b[0ml_list\u001b[0m\u001b[0;34m.\u001b[0m\u001b[0mappend\u001b[0m\u001b[0;34m(\u001b[0m\u001b[0ml\u001b[0m\u001b[0;34m)\u001b[0m\u001b[0;34m\u001b[0m\u001b[0;34m\u001b[0m\u001b[0m\n\u001b[0;32m--> 117\u001b[0;31m             logpdfs.append(f(self.X_bar[:, dim], vs.positive(B.rand(), name='local_gp_noise'+str(dim)).logpdf(vs.positive(B.rand(self.num_inducing_points,1)+1, \n\u001b[0m\u001b[1;32m    118\u001b[0m                                     shape=(self.num_inducing_points,1), name='local_ls'+str(dim)))))\n\u001b[1;32m    119\u001b[0m \u001b[0;34m\u001b[0m\u001b[0m\n",
      "\u001b[0;32m~/.local/lib/python3.8/site-packages/tensorflow/python/framework/ops.py\u001b[0m in \u001b[0;36m__getattr__\u001b[0;34m(self, name)\u001b[0m\n\u001b[1;32m    399\u001b[0m         \u001b[0;32mimport\u001b[0m \u001b[0mtensorflow\u001b[0m\u001b[0;34m.\u001b[0m\u001b[0mpython\u001b[0m\u001b[0;34m.\u001b[0m\u001b[0mops\u001b[0m\u001b[0;34m.\u001b[0m\u001b[0mnumpy_ops\u001b[0m\u001b[0;34m.\u001b[0m\u001b[0mnp_config\u001b[0m\u001b[0;34m\u001b[0m\u001b[0;34m\u001b[0m\u001b[0m\n\u001b[1;32m    400\u001b[0m         np_config.enable_numpy_behavior()\"\"\".format(type(self).__name__, name))\n\u001b[0;32m--> 401\u001b[0;31m     \u001b[0mself\u001b[0m\u001b[0;34m.\u001b[0m\u001b[0m__getattribute__\u001b[0m\u001b[0;34m(\u001b[0m\u001b[0mname\u001b[0m\u001b[0;34m)\u001b[0m\u001b[0;34m\u001b[0m\u001b[0;34m\u001b[0m\u001b[0m\n\u001b[0m\u001b[1;32m    402\u001b[0m \u001b[0;34m\u001b[0m\u001b[0m\n\u001b[1;32m    403\u001b[0m   \u001b[0;34m@\u001b[0m\u001b[0mstaticmethod\u001b[0m\u001b[0;34m\u001b[0m\u001b[0;34m\u001b[0m\u001b[0m\n",
      "\u001b[0;31mAttributeError\u001b[0m: 'tensorflow.python.framework.ops.EagerTensor' object has no attribute 'logpdf'"
     ]
    }
   ],
   "source": [
    "for seed in [2,3,4,5]:\n",
    "    model = NSGPRegression(X, y, num_inducing_points=3, seed=seed)\n",
    "    model.optimize(iters=100, lr=0.1)\n",
    "    pred_y = model.predict(X_test)[0].numpy()\n",
    "    plt.contourf(X1_test, X2_test, pred_y.reshape(n,n), levels=30)\n",
    "    plt.scatter(model.X_bar[:,0], model.X_bar[:,1])\n",
    "    plt.colorbar()\n",
    "\n",
    "    print(np.mean(np.square(y_test-pred_y))/np.var(y_test))\n",
    "#     model.vs.print()"
   ]
  },
  {
   "cell_type": "code",
   "execution_count": 72,
   "metadata": {},
   "outputs": [
    {
     "name": "stdout",
     "output_type": "stream",
     "text": [
      "local_std:  2.821\n",
      "local_gp_ls0: 1.061\n",
      "local_gp_noise0: 0.5129\n",
      "local_ls0:\n",
      "    [[0.84753991]\n",
      "     [1.59473408]\n",
      "     [4.13436443]]\n",
      "local_gp_ls1: 0.9627\n",
      "local_gp_noise1: 0.8393\n",
      "local_ls1:\n",
      "    [[1.28300333]\n",
      "     [3.46361145]\n",
      "     [1.35718658]]\n",
      "global_std: 0.2335\n",
      "global_noise: 0.07029\n"
     ]
    },
    {
     "data": {
      "text/plain": [
       "<tf.Tensor: shape=(), dtype=float64, numpy=0.05453996854556822>"
      ]
     },
     "execution_count": 72,
     "metadata": {},
     "output_type": "execute_result"
    }
   ],
   "source": [
    "model.vs.print()\n",
    "model.vs['global_std']**2"
   ]
  },
  {
   "cell_type": "code",
   "execution_count": 73,
   "metadata": {},
   "outputs": [
    {
     "name": "stdout",
     "output_type": "stream",
     "text": [
      "0.056334855298492144\n"
     ]
    },
    {
     "data": {
      "text/plain": [
       "(<GPy.models.gp_regression.GPRegression at 0x7ff640671f70>,\n",
       " \u001b[1mGP_regression.rbf.lengthscale\u001b[0;0m:\n",
       " Param([0.16535625, 0.23951609]))"
      ]
     },
     "execution_count": 73,
     "metadata": {},
     "output_type": "execute_result"
    }
   ],
   "source": [
    "m = GPy.models.GPRegression(X, y, GPy.kern.RBF(2, ARD=True), normalizer=False)\n",
    "m.optimize_restarts(10, verbose=False);\n",
    "# m.plot()\n",
    "# print(m)\n",
    "# m.kern.lengthscale, m['Gaussian_noise.variance']**.5\n",
    "pred_y = m.predict(X_test)[0]\n",
    "print(np.mean(np.square(y_test-pred_y))/np.var(y_test))\n",
    "m, m.kern.lengthscale"
   ]
  },
  {
   "cell_type": "markdown",
   "metadata": {},
   "source": [
    "### Data 1(Sin mix)"
   ]
  },
  {
   "cell_type": "code",
   "execution_count": null,
   "metadata": {},
   "outputs": [],
   "source": [
    "np.random.seed(0)\n",
    "X = np.linspace(-1,1,100).reshape(-1,1)\n",
    "# y = np.sin(10*X) + np.random.normal(0,0.1,100).reshape(-1,1)\n",
    "y = np.sin(-np.abs(7*X)) + np.random.normal(0,0.1,100).reshape(-1,1)\n",
    "\n",
    "X_scaled = StandardScaler().fit_transform(X)\n",
    "y_scaled = StandardScaler().fit_transform(y)\n",
    "\n",
    "plt.scatter(X_scaled, y_scaled);"
   ]
  },
  {
   "cell_type": "code",
   "execution_count": null,
   "metadata": {
    "scrolled": true
   },
   "outputs": [],
   "source": [
    "model = fit_predict_plot(X_scaled, y_scaled)"
   ]
  },
  {
   "cell_type": "markdown",
   "metadata": {},
   "source": [
    "### Data2 (Olymplic marathon)"
   ]
  },
  {
   "cell_type": "code",
   "execution_count": null,
   "metadata": {},
   "outputs": [],
   "source": [
    "import pods\n",
    "\n",
    "data = pods.datasets.olympic_marathon_men()\n",
    "X = data['X']\n",
    "y = data['Y']\n",
    "\n",
    "plt.scatter(X, y);"
   ]
  },
  {
   "cell_type": "code",
   "execution_count": null,
   "metadata": {},
   "outputs": [],
   "source": [
    "X_scaled = StandardScaler().fit_transform(X)\n",
    "y_scaled = StandardScaler().fit_transform(y)\n",
    "\n",
    "fit_predict_plot(X_scaled, y_scaled)"
   ]
  },
  {
   "cell_type": "markdown",
   "metadata": {},
   "source": [
    "### Data 3 (della_gatta_gene data)"
   ]
  },
  {
   "cell_type": "markdown",
   "metadata": {},
   "source": [
    "### Helper function"
   ]
  },
  {
   "cell_type": "code",
   "execution_count": 16,
   "metadata": {},
   "outputs": [],
   "source": [
    "def fit_predict_plot(X, y):\n",
    "    ## Stationary fit\n",
    "    m = GPy.models.GPRegression(X, y, GPy.kern.RBF(X.shape[1]))\n",
    "    m.optimize_restarts(5, verbose=False)\n",
    "    \n",
    "    pred_y, var_y = m.predict(X)\n",
    "    pred_y = pred_y.ravel()\n",
    "    std2_y = np.sqrt(var_y.ravel())*2\n",
    "\n",
    "    fig, ax = plt.subplots(1,2,figsize=(12,3))\n",
    "    ax[0].set_title('Stationary GP')\n",
    "    ax[0].scatter(X, y, label='data')\n",
    "    ax[0].plot(X, pred_y, label='pred_mean')\n",
    "    ax[0].fill_between(X[:,0], pred_y.ravel()-std2_y, pred_y.ravel()+std2_y, alpha=0.3, label='95% conf')\n",
    "    ax[0].set_xlabel('X'); ax[0].set_ylabel('y')\n",
    "    ax[0].legend()\n",
    "    \n",
    "    ax[1].plot(X.ravel(), [m.kern.lengthscale]*len(y))\n",
    "    ax[1].set_xlabel('X'); ax[1].set_ylabel('Lenghtscale');\n",
    "    \n",
    "    n_list = list(range(1, 11))\n",
    "#     n_list = [5]\n",
    "    n_restarts = 5\n",
    "    obj_list = []\n",
    "    best_models = []\n",
    "    for n in n_list:\n",
    "        best_loss = np.inf\n",
    "        best_model = None\n",
    "        for seed in range(n_restarts):\n",
    "            clear_output(wait=True)\n",
    "            print('n',n,'seed',seed)\n",
    "            model = NSGPRegression(X, y, num_inducing_points=n, seed=seed)\n",
    "            model.optimize()\n",
    "            if model.GlobalGP(model.vs)<best_loss:\n",
    "                best_loss = model.GlobalGP(model.vs)\n",
    "                best_model = model\n",
    "        \n",
    "        obj_list.append(best_loss)\n",
    "        best_models.append(best_model)\n",
    "    \n",
    "    X_new = np.linspace(X.min(), X.max(), 201).reshape(-1,1)\n",
    "    for bi, best_model in zip(n_list, best_models):\n",
    "        pred_y, var_y = best_model.predict(X_new)\n",
    "        pred_y = pred_y.numpy()\n",
    "        std2_y = np.sqrt(var_y.numpy().diagonal())*2\n",
    "        \n",
    "        fig, ax = plt.subplots(1,2,figsize=(12,3))\n",
    "        ax[0].set_title('num_inducing_points = '+str(bi))\n",
    "        ax[0].scatter(X, y, label='data')\n",
    "        ax[0].plot(X_new, pred_y, label='pred_mean')\n",
    "        ax[0].fill_between(X_new[:,0], pred_y.ravel()-std2_y, pred_y.ravel()+std2_y, alpha=0.3, label='95% conf')\n",
    "        ax[0].set_xlabel('X'); ax[0].set_ylabel('y')\n",
    "        ax[0].legend()\n",
    "\n",
    "        ax[1].plot(X.ravel(), [m.kern.lengthscale]*len(y), label='Stat. LS')\n",
    "        ax[1].plot(X_new.ravel(), np.array(best_model.LocalGP(best_model.vs, X_new)).ravel())\n",
    "        ax[1].scatter(best_model.X_bar, best_model.vs['local_ls0']);\n",
    "        ax[1].set_xlabel('X'); ax[1].set_ylabel('Lenghtscale');\n",
    "        ax[1].legend()\n",
    "    df = pd.DataFrame(np.vstack([n_list, obj_list]).T, columns=['n_inducing_points', 'Loss (nlml)'])\n",
    "    plt.figure()\n",
    "    plt.plot(df.n_inducing_points, df['Loss (nlml)'])\n",
    "    plt.xlabel('num_inducing_points')\n",
    "    plt.ylabel('Loss')\n",
    "    plt.title('Num_inducing_points vs Loss')"
   ]
  },
  {
   "cell_type": "code",
   "execution_count": null,
   "metadata": {},
   "outputs": [],
   "source": [
    "data = pods.datasets.della_gatta_TRP63_gene_expression(data_set='della_gatta',gene_number=937)\n",
    "\n",
    "X = data['X']\n",
    "y = data['Y']\n",
    "\n",
    "plt.scatter(X, y);"
   ]
  },
  {
   "cell_type": "code",
   "execution_count": null,
   "metadata": {},
   "outputs": [],
   "source": [
    "X_scaled = StandardScaler().fit_transform(X)\n",
    "y_scaled = StandardScaler().fit_transform(y)\n",
    "\n",
    "fit_predict_plot(X_scaled, y_scaled)"
   ]
  },
  {
   "cell_type": "markdown",
   "metadata": {},
   "source": [
    "###  Data 4 (Step function overlap in between)"
   ]
  },
  {
   "cell_type": "code",
   "execution_count": null,
   "metadata": {},
   "outputs": [],
   "source": [
    "num_low=25\n",
    "num_high=25\n",
    "gap = -.1\n",
    "noise=0.0001\n",
    "X = np.vstack((np.linspace(-1, -gap/2.0, num_low)[:, np.newaxis],\n",
    "              np.linspace(gap/2.0, 1, num_high)[:, np.newaxis]))\n",
    "y = np.vstack((np.zeros((num_low, 1)), np.ones((num_high,1))))\n",
    "\n",
    "plt.scatter(X, y);"
   ]
  },
  {
   "cell_type": "code",
   "execution_count": null,
   "metadata": {},
   "outputs": [],
   "source": [
    "X_scaled = StandardScaler().fit_transform(X)\n",
    "y_scaled = StandardScaler().fit_transform(y)\n",
    "\n",
    "fit_predict_plot(X_scaled, y_scaled)"
   ]
  },
  {
   "cell_type": "markdown",
   "metadata": {},
   "source": [
    "### Data 5 (Motorcycle helmet dataset)"
   ]
  },
  {
   "cell_type": "code",
   "execution_count": null,
   "metadata": {
    "scrolled": true
   },
   "outputs": [],
   "source": [
    "data = pd.read_csv('../../../motor.csv')\n",
    "print(data.columns)\n",
    "X = data['times'].values.reshape(-1,1)\n",
    "y = data['accel'].values.reshape(-1,1)\n",
    "\n",
    "plt.scatter(X, y);"
   ]
  },
  {
   "cell_type": "code",
   "execution_count": null,
   "metadata": {},
   "outputs": [],
   "source": [
    "X_scaled = StandardScaler().fit_transform(X)\n",
    "y_scaled = StandardScaler().fit_transform(y)\n",
    "\n",
    "fit_predict_plot(X_scaled, y_scaled)"
   ]
  },
  {
   "cell_type": "markdown",
   "metadata": {},
   "source": [
    "### Data 6 (Smooth-1D used by plagemann)"
   ]
  },
  {
   "cell_type": "code",
   "execution_count": null,
   "metadata": {},
   "outputs": [],
   "source": [
    "np.random.seed(0)\n",
    "X = np.linspace(-2, 2, 101).reshape(-1,1)\n",
    "y = np.sin(X) + 2 * np.exp(-30*X**2) + np.random.normal(0,0.3,101).reshape(-1,1)\n",
    "\n",
    "plt.scatter(X, y);"
   ]
  },
  {
   "cell_type": "code",
   "execution_count": null,
   "metadata": {},
   "outputs": [],
   "source": [
    "X_scaled = StandardScaler().fit_transform(X)\n",
    "y_scaled = StandardScaler().fit_transform(y)\n",
    "\n",
    "fit_predict_plot(X_scaled, y_scaled)"
   ]
  }
 ],
 "metadata": {
  "kernelspec": {
   "display_name": "Python 3",
   "language": "python",
   "name": "python3"
  },
  "language_info": {
   "codemirror_mode": {
    "name": "ipython",
    "version": 3
   },
   "file_extension": ".py",
   "mimetype": "text/x-python",
   "name": "python",
   "nbconvert_exporter": "python",
   "pygments_lexer": "ipython3",
   "version": "3.8.8"
  }
 },
 "nbformat": 4,
 "nbformat_minor": 2
}
