{
 "cells": [
  {
   "cell_type": "code",
   "execution_count": 2,
   "id": "181804e8",
   "metadata": {
    "scrolled": true
   },
   "outputs": [],
   "source": [
    "# !pip uninstall numpy -y\n",
    "# !pip install numpy\n",
    "from varz import Vars\n",
    "import GPy\n",
    "import tensorflow as tf\n",
    "import torch\n",
    "import numpy as np\n",
    "import warnings\n",
    "warnings.filterwarnings('ignore', category=DeprecationWarning)\n",
    "\n",
    "from sklearn.cluster import KMeans\n",
    "\n",
    "# Importing models\n",
    "from NSGPy.stheno.model import NSGPRegression as NSS\n",
    "from NSGPy.torch.model import NSGPRegression as NST"
   ]
  },
  {
   "cell_type": "markdown",
   "id": "9c8430b7",
   "metadata": {},
   "source": [
    "### Common data and params"
   ]
  },
  {
   "cell_type": "code",
   "execution_count": 3,
   "id": "eb8407e3",
   "metadata": {},
   "outputs": [],
   "source": [
    "seed = 0\n",
    "input_dim = 10\n",
    "num_inducing_points = 15\n",
    "N = 100\n",
    "\n",
    "np.random.seed(seed)\n",
    "rand = lambda shape: np.abs(np.random.normal(loc=0, scale=1, size=shape))\n",
    "local_std = rand((input_dim,))\n",
    "local_gp_ls = rand((input_dim,))\n",
    "local_ls = rand((input_dim, num_inducing_points))\n",
    "local_gp_noise_std = rand((input_dim,))\n",
    "\n",
    "global_std = np.random.normal()\n",
    "global_gp_noise_std = np.random.normal()\n",
    "\n",
    "f_indu = lambda x, num_ind: KMeans(n_clusters=num_ind, random_state=seed).fit(x).cluster_centers_\n",
    "\n",
    "X = np.random.rand(N,input_dim)\n",
    "y = np.random.rand(N,1)\n",
    "\n",
    "X_test = np.random.rand(N*2, input_dim)"
   ]
  },
  {
   "cell_type": "markdown",
   "id": "ca1a3bc1",
   "metadata": {},
   "source": [
    "### GPy"
   ]
  },
  {
   "cell_type": "code",
   "execution_count": null,
   "id": "a229eca9",
   "metadata": {},
   "outputs": [],
   "source": [
    "m = GPy.models.GPRegression(X, y, GPy.kern.RBF(input_dim, ARD=True))\n",
    "GPy_pred_y, GPy_pred_var = m.predict(X_test, full_cov=True)"
   ]
  },
  {
   "cell_type": "markdown",
   "id": "b20db5e7",
   "metadata": {},
   "source": [
    "### Stheno model"
   ]
  },
  {
   "cell_type": "code",
   "execution_count": null,
   "id": "0b3b8937",
   "metadata": {
    "scrolled": true
   },
   "outputs": [],
   "source": [
    "vs = Vars(tf.float64)\n",
    "# Local params\n",
    "vs.positive(init=local_std, shape=(input_dim,), name='local_std')\n",
    "vs.positive(init=local_gp_ls, shape=(input_dim,), name='local_gp_ls')\n",
    "vs.positive(init=local_ls, \n",
    "                    shape=(input_dim, num_inducing_points), name='local_ls')\n",
    "vs.positive(init=local_gp_noise_std, shape=(input_dim,), name='local_gp_noise_std')\n",
    "\n",
    "# Global params\n",
    "vs.positive(init=global_std, name='global_std')\n",
    "vs.positive(init=global_gp_noise_std, name='global_gp_noise_std')\n",
    "\n",
    "model = NSS(X, y, vs, num_inducing_points, f_indu, seed=seed)\n",
    "\n",
    "mean_y, var_y = model.predict(X_test)\n",
    "mean_y"
   ]
  },
  {
   "cell_type": "code",
   "execution_count": null,
   "id": "79c6c1a7",
   "metadata": {},
   "outputs": [],
   "source": [
    "torch.manual_seed(seed)\n",
    "f = lambda size: (1+torch.rand(size)).requires_grad_()\n",
    "self.params['local_gp_std'] = f((self.input_dim,))\n",
    "self.params['local_gp_ls'] = f((self.input_dim,))\n",
    "self.params['local_gp_noise_std'] = f((self.input_dim,))\n",
    "self.params['local_ls'] = f((self.num_inducing_points, self.input_dim))\n",
    "self.params['global_gp_std'] = f((1,))\n",
    "self.params['global_gp_noise_std'] = f((1,))"
   ]
  },
  {
   "cell_type": "markdown",
   "id": "c2597c96",
   "metadata": {},
   "source": [
    "### Appendix"
   ]
  },
  {
   "cell_type": "code",
   "execution_count": 4,
   "id": "ac5e6c92",
   "metadata": {},
   "outputs": [],
   "source": [
    "from stheno import GP, EQ"
   ]
  },
  {
   "cell_type": "code",
   "execution_count": 42,
   "id": "a462793c",
   "metadata": {},
   "outputs": [],
   "source": [
    "f = GP(EQ())\n",
    "f_ = f | (f(X[:,0], 0.5), y)\n",
    "ans1 = f_(X_test[:,0]).mean.mat"
   ]
  },
  {
   "cell_type": "code",
   "execution_count": 68,
   "id": "b4df3449",
   "metadata": {},
   "outputs": [],
   "source": [
    "def LocalKernel(x1,x2): # return local kernel without variance\n",
    "    x1 = torch.tensor(x1.reshape(-1,1))\n",
    "    x2 = torch.tensor(x2.reshape(-1,1))\n",
    "    \n",
    "    dist = x1 - x2.T\n",
    "    scaled_dist = dist\n",
    "\n",
    "    return torch.exp(-scaled_dist**2/2)"
   ]
  },
  {
   "cell_type": "code",
   "execution_count": 69,
   "id": "9353b704",
   "metadata": {},
   "outputs": [
    {
     "data": {
      "text/plain": [
       "array([[1.        , 0.98187768],\n",
       "       [0.98187768, 1.        ]])"
      ]
     },
     "execution_count": 69,
     "metadata": {},
     "output_type": "execute_result"
    }
   ],
   "source": [
    "k1 = EQ()(X[:,0:1]).mat\n",
    "k2 = LocalKernel(X[:,0:1], X[:,0:1])\n",
    "\n",
    "k1[:2,:2]"
   ]
  },
  {
   "cell_type": "code",
   "execution_count": 70,
   "id": "4360ba73",
   "metadata": {},
   "outputs": [
    {
     "data": {
      "text/plain": [
       "tensor([[1.0000, 0.9819],\n",
       "        [0.9819, 1.0000]])"
      ]
     },
     "execution_count": 70,
     "metadata": {},
     "output_type": "execute_result"
    }
   ],
   "source": [
    "k2[:2,:2]"
   ]
  },
  {
   "cell_type": "code",
   "execution_count": 46,
   "id": "82168430",
   "metadata": {},
   "outputs": [
    {
     "name": "stderr",
     "output_type": "stream",
     "text": [
      " <ipython-input-46-f461e699de8e>:5: UserWarning:To copy construct from a tensor, it is recommended to use sourceTensor.clone().detach() or sourceTensor.clone().detach().requires_grad_(True), rather than torch.tensor(sourceTensor).\n",
      " <ipython-input-46-f461e699de8e>:8: UserWarning:To copy construct from a tensor, it is recommended to use sourceTensor.clone().detach() or sourceTensor.clone().detach().requires_grad_(True), rather than torch.tensor(sourceTensor).\n"
     ]
    }
   ],
   "source": [
    "K = LocalKernel(X[:,0], X[:,0])\n",
    "K += np.eye(X.shape[0])*0.5\n",
    "K_ = LocalKernel(X_test[:,0], X[:,0])\n",
    "\n",
    "L = torch.linalg.cholesky(torch.tensor(K))\n",
    "\n",
    "alpha = torch.cholesky_solve(torch.tensor(y), L)\n",
    "ans2 = torch.tensor(K_)@alpha"
   ]
  },
  {
   "cell_type": "code",
   "execution_count": 47,
   "id": "7c436301",
   "metadata": {},
   "outputs": [
    {
     "data": {
      "text/plain": [
       "False"
      ]
     },
     "execution_count": 47,
     "metadata": {},
     "output_type": "execute_result"
    }
   ],
   "source": [
    "np.allclose(ans1, ans2)"
   ]
  },
  {
   "cell_type": "code",
   "execution_count": 48,
   "id": "1028c195",
   "metadata": {},
   "outputs": [
    {
     "data": {
      "text/plain": [
       "(array([[0.54375254],\n",
       "        [0.52426359],\n",
       "        [0.49439437]]),\n",
       " array([[0.54402733],\n",
       "        [0.53669224],\n",
       "        [0.52267955]]))"
      ]
     },
     "execution_count": 48,
     "metadata": {},
     "output_type": "execute_result"
    }
   ],
   "source": [
    "ans1[:3], ans2[:3].numpy()"
   ]
  },
  {
   "cell_type": "code",
   "execution_count": null,
   "id": "0d796dc3",
   "metadata": {},
   "outputs": [],
   "source": []
  }
 ],
 "metadata": {
  "kernelspec": {
   "display_name": "Python 3",
   "language": "python",
   "name": "python3"
  },
  "language_info": {
   "codemirror_mode": {
    "name": "ipython",
    "version": 3
   },
   "file_extension": ".py",
   "mimetype": "text/x-python",
   "name": "python",
   "nbconvert_exporter": "python",
   "pygments_lexer": "ipython3",
   "version": "3.8.8"
  }
 },
 "nbformat": 4,
 "nbformat_minor": 5
}
